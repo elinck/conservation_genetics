{
 "cells": [
  {
   "cell_type": "markdown",
   "metadata": {},
   "source": [
    "## BIOB480/BIOE548 Final Project: Genomic analysis with `scikit-allel`\n",
    "\n",
    "The following Jupyter Notebook provides Python code to perform simple analyses of genome-wide single nucleotide polymorphism (SNP) data using the powerful `scikit-allel` package. As part of the your final project in Conservation Genetics you will run each code chunk below, calculating a number of metrics we have discussed in class for the empirical dataset you selected, and recording answers to the bolded questions interspersed throughout. All data have been uploaded as [gzipped](https://en.wikipedia.org/wiki/Gzip) `.vcf` (\"Variant Call Format\") files in the `data/` directory. To begin, you'll first need to copy this notebook and save an editable version to your own student directory. I also recommend spend some time reviewing `scikit-allel`'s [documentation](https://scikit-allel.readthedocs.io/en/stable/#), paying particular attention to what functions look like and how they operate. "
   ]
  },
  {
   "cell_type": "markdown",
   "metadata": {},
   "source": [
    "**QUESTION 1:** Pick a function from the [\"Statistics and plotting\"](https://scikit-allel.readthedocs.io/en/stable/stats.html) section of `scikit-allel`'s docs. What are its parameters, and what do they mean?"
   ]
  },
  {
   "cell_type": "markdown",
   "metadata": {},
   "source": [
    "Next, you should get familiar with the Jupyter Notebook environment. Find the buttons to run a chunk of code, change the format of a particular chunk (from Code—i.e., Python 3—to Markdown or Raw, which are used for writing), and save your work. Look also at the directory browser on the left-hand side of the notebook, and orient yourself to its structure. "
   ]
  },
  {
   "cell_type": "markdown",
   "metadata": {},
   "source": [
    "The last think we'll do before starting is import `scikit-allel`, along with the standard Python libraries `numpy`, `pandas`, and `os`:"
   ]
  },
  {
   "cell_type": "code",
   "execution_count": 36,
   "metadata": {},
   "outputs": [],
   "source": [
    "import os\n",
    "import allel\n",
    "import numpy as np\n",
    "import pandas as pd\n",
    "import matplotlib.pyplot as plt"
   ]
  },
  {
   "cell_type": "markdown",
   "metadata": {},
   "source": [
    "## Introduction to Python"
   ]
  },
  {
   "cell_type": "markdown",
   "metadata": {},
   "source": [
    "Though learning Python in any meaningful sense is far beyond what we can tackle in the last week of the semester, it will be useful to examine a few aspects of the language before diving into `scikit-allel`. (If you are motivated and have the time, I highly recommend [the Software Carpentries \"Programming with Python\" lesson](https://swcarpentry.github.io/python-novice-inflammation/#overview).)\n",
    "\n",
    "We can start with some simple calculations, as any Python *interpreter* (i.e., an interface to enter Python code, like a Jupyter Notebook chunk) can mathematical operations:"
   ]
  },
  {
   "cell_type": "code",
   "execution_count": 5,
   "metadata": {},
   "outputs": [
    {
     "data": {
      "text/plain": [
       "0.25"
      ]
     },
     "execution_count": 5,
     "metadata": {},
     "output_type": "execute_result"
    }
   ],
   "source": [
    "0.2**2 # the double asterix operator exponentiates the following term"
   ]
  },
  {
   "cell_type": "markdown",
   "metadata": {},
   "source": [
    "We can also assign numbers to variables using the \"=\" operator:"
   ]
  },
  {
   "cell_type": "code",
   "execution_count": 11,
   "metadata": {},
   "outputs": [
    {
     "data": {
      "text/plain": [
       "1.0000000000000002"
      ]
     },
     "execution_count": 11,
     "metadata": {},
     "output_type": "execute_result"
    }
   ],
   "source": [
    "p = 0.2\n",
    "q = 0.8\n",
    "p**2 + 2*p*q + q**2"
   ]
  },
  {
   "cell_type": "markdown",
   "metadata": {},
   "source": [
    "Unlike other languages you might be familiar with (e.g., `R`), Python allows you to assign multiple values to variables using a comma:"
   ]
  },
  {
   "cell_type": "code",
   "execution_count": 13,
   "metadata": {},
   "outputs": [
    {
     "data": {
      "text/plain": [
       "1.0"
      ]
     },
     "execution_count": 13,
     "metadata": {},
     "output_type": "execute_result"
    }
   ],
   "source": [
    "p, q = 0.4, 0.6\n",
    "p**2 + 2*p*q + q**2"
   ]
  },
  {
   "cell_type": "markdown",
   "metadata": {},
   "source": [
    "Python also includes a set of built-in functions (i.e., functions you don't need to load via an external library). Useful ones to know include `print()`, `range()`, `list()`, `len()` and `type()`:"
   ]
  },
  {
   "cell_type": "code",
   "execution_count": 22,
   "metadata": {},
   "outputs": [
    {
     "name": "stdout",
     "output_type": "stream",
     "text": [
      "The frequency of allele 1 is now 0.5\n"
     ]
    }
   ],
   "source": [
    "p = 0.5\n",
    "print('The frequency of allele 1 is now', p)"
   ]
  },
  {
   "cell_type": "code",
   "execution_count": 27,
   "metadata": {},
   "outputs": [
    {
     "data": {
      "text/plain": [
       "[0, 1, 2, 3, 4, 5, 6, 7, 8, 9]"
      ]
     },
     "execution_count": 27,
     "metadata": {},
     "output_type": "execute_result"
    }
   ],
   "source": [
    "nums = list(range(0,10,1))\n",
    "nums"
   ]
  },
  {
   "cell_type": "code",
   "execution_count": 28,
   "metadata": {},
   "outputs": [
    {
     "data": {
      "text/plain": [
       "10"
      ]
     },
     "execution_count": 28,
     "metadata": {},
     "output_type": "execute_result"
    }
   ],
   "source": [
    "len(nums)"
   ]
  },
  {
   "cell_type": "markdown",
   "metadata": {},
   "source": [
    "Note that the object `nums` has a length of 10. This is because it is somethign known as an *list*, a data structure that can hold more than one variable at a time. We can confirm this using the `type()` function:"
   ]
  },
  {
   "cell_type": "code",
   "execution_count": 30,
   "metadata": {},
   "outputs": [
    {
     "data": {
      "text/plain": [
       "list"
      ]
     },
     "execution_count": 30,
     "metadata": {},
     "output_type": "execute_result"
    }
   ],
   "source": [
    "type(nums)"
   ]
  },
  {
   "cell_type": "markdown",
   "metadata": {},
   "source": [
    "We can also use `type()` to determine what kind of numerical data is encoded by an object. Typically, this will be either a `float` (i.e., a floating-point number, with a decimal point) or an `integer` (a number without a decimal point). We can change from a `float` to an `integer` and back using the functions `int()` and `float()`:"
   ]
  },
  {
   "cell_type": "code",
   "execution_count": 31,
   "metadata": {},
   "outputs": [
    {
     "data": {
      "text/plain": [
       "float"
      ]
     },
     "execution_count": 31,
     "metadata": {},
     "output_type": "execute_result"
    }
   ],
   "source": [
    "type(p)"
   ]
  },
  {
   "cell_type": "code",
   "execution_count": 33,
   "metadata": {},
   "outputs": [
    {
     "data": {
      "text/plain": [
       "int"
      ]
     },
     "execution_count": 33,
     "metadata": {},
     "output_type": "execute_result"
    }
   ],
   "source": [
    "p = int(p)\n",
    "type(p)"
   ]
  },
  {
   "cell_type": "code",
   "execution_count": 35,
   "metadata": {},
   "outputs": [
    {
     "data": {
      "text/plain": [
       "float"
      ]
     },
     "execution_count": 35,
     "metadata": {},
     "output_type": "execute_result"
    }
   ],
   "source": [
    "p = float(p)\n",
    "type(p)"
   ]
  },
  {
   "cell_type": "markdown",
   "metadata": {},
   "source": [
    "Text can be represented by a type of object known as a `String`:"
   ]
  },
  {
   "cell_type": "code",
   "execution_count": 65,
   "metadata": {},
   "outputs": [],
   "source": [
    "text = \"Conservation Genetics\""
   ]
  },
  {
   "cell_type": "code",
   "execution_count": 66,
   "metadata": {},
   "outputs": [
    {
     "name": "stdout",
     "output_type": "stream",
     "text": [
      "Conservation Genetics\n"
     ]
    }
   ],
   "source": [
    "print(text)"
   ]
  },
  {
   "cell_type": "code",
   "execution_count": 67,
   "metadata": {},
   "outputs": [
    {
     "data": {
      "text/plain": [
       "str"
      ]
     },
     "execution_count": 67,
     "metadata": {},
     "output_type": "execute_result"
    }
   ],
   "source": [
    "type(text)"
   ]
  },
  {
   "cell_type": "markdown",
   "metadata": {},
   "source": [
    "Specialized libraries (equivalent to packages in `R`) include their own set of functions, which can be viewed by pressing tab after typing the library name and a period. We imported `numpy` with the nickname `np`. Here is one of its many functions, which takes the average of a list of numbers. "
   ]
  },
  {
   "cell_type": "code",
   "execution_count": 38,
   "metadata": {},
   "outputs": [
    {
     "data": {
      "text/plain": [
       "4.5"
      ]
     },
     "execution_count": 38,
     "metadata": {},
     "output_type": "execute_result"
    }
   ],
   "source": [
    "np.average(nums)"
   ]
  },
  {
   "cell_type": "markdown",
   "metadata": {},
   "source": [
    "**QUESTION 2:** Choose another `Numpy` funciton and explain its purpose. (You may use other sources.)"
   ]
  },
  {
   "cell_type": "markdown",
   "metadata": {},
   "source": [
    "The last thing we'll introduce for now is the `help()` function. Its output is a little cryptic, but once you get oriented, can be useful for debugging:"
   ]
  },
  {
   "cell_type": "code",
   "execution_count": 41,
   "metadata": {},
   "outputs": [
    {
     "name": "stdout",
     "output_type": "stream",
     "text": [
      "Help on _ArrayFunctionDispatcher in module numpy:\n",
      "\n",
      "average(a, axis=None, weights=None, returned=False, *, keepdims=<no value>)\n",
      "    Compute the weighted average along the specified axis.\n",
      "\n",
      "    Parameters\n",
      "    ----------\n",
      "    a : array_like\n",
      "        Array containing data to be averaged. If `a` is not an array, a\n",
      "        conversion is attempted.\n",
      "    axis : None or int or tuple of ints, optional\n",
      "        Axis or axes along which to average `a`.  The default,\n",
      "        axis=None, will average over all of the elements of the input array.\n",
      "        If axis is negative it counts from the last to the first axis.\n",
      "\n",
      "        .. versionadded:: 1.7.0\n",
      "\n",
      "        If axis is a tuple of ints, averaging is performed on all of the axes\n",
      "        specified in the tuple instead of a single axis or all the axes as\n",
      "        before.\n",
      "    weights : array_like, optional\n",
      "        An array of weights associated with the values in `a`. Each value in\n",
      "        `a` contributes to the average according to its associated weight.\n",
      "        The weights array can either be 1-D (in which case its length must be\n",
      "        the size of `a` along the given axis) or of the same shape as `a`.\n",
      "        If `weights=None`, then all data in `a` are assumed to have a\n",
      "        weight equal to one.  The 1-D calculation is::\n",
      "\n",
      "            avg = sum(a * weights) / sum(weights)\n",
      "\n",
      "        The only constraint on `weights` is that `sum(weights)` must not be 0.\n",
      "    returned : bool, optional\n",
      "        Default is `False`. If `True`, the tuple (`average`, `sum_of_weights`)\n",
      "        is returned, otherwise only the average is returned.\n",
      "        If `weights=None`, `sum_of_weights` is equivalent to the number of\n",
      "        elements over which the average is taken.\n",
      "    keepdims : bool, optional\n",
      "        If this is set to True, the axes which are reduced are left\n",
      "        in the result as dimensions with size one. With this option,\n",
      "        the result will broadcast correctly against the original `a`.\n",
      "        *Note:* `keepdims` will not work with instances of `numpy.matrix`\n",
      "        or other classes whose methods do not support `keepdims`.\n",
      "\n",
      "        .. versionadded:: 1.23.0\n",
      "\n",
      "    Returns\n",
      "    -------\n",
      "    retval, [sum_of_weights] : array_type or double\n",
      "        Return the average along the specified axis. When `returned` is `True`,\n",
      "        return a tuple with the average as the first element and the sum\n",
      "        of the weights as the second element. `sum_of_weights` is of the\n",
      "        same type as `retval`. The result dtype follows a genereal pattern.\n",
      "        If `weights` is None, the result dtype will be that of `a` , or ``float64``\n",
      "        if `a` is integral. Otherwise, if `weights` is not None and `a` is non-\n",
      "        integral, the result type will be the type of lowest precision capable of\n",
      "        representing values of both `a` and `weights`. If `a` happens to be\n",
      "        integral, the previous rules still applies but the result dtype will\n",
      "        at least be ``float64``.\n",
      "\n",
      "    Raises\n",
      "    ------\n",
      "    ZeroDivisionError\n",
      "        When all weights along axis are zero. See `numpy.ma.average` for a\n",
      "        version robust to this type of error.\n",
      "    TypeError\n",
      "        When the length of 1D `weights` is not the same as the shape of `a`\n",
      "        along axis.\n",
      "\n",
      "    See Also\n",
      "    --------\n",
      "    mean\n",
      "\n",
      "    ma.average : average for masked arrays -- useful if your data contains\n",
      "                 \"missing\" values\n",
      "    numpy.result_type : Returns the type that results from applying the\n",
      "                        numpy type promotion rules to the arguments.\n",
      "\n",
      "    Examples\n",
      "    --------\n",
      "    >>> data = np.arange(1, 5)\n",
      "    >>> data\n",
      "    array([1, 2, 3, 4])\n",
      "    >>> np.average(data)\n",
      "    2.5\n",
      "    >>> np.average(np.arange(1, 11), weights=np.arange(10, 0, -1))\n",
      "    4.0\n",
      "\n",
      "    >>> data = np.arange(6).reshape((3, 2))\n",
      "    >>> data\n",
      "    array([[0, 1],\n",
      "           [2, 3],\n",
      "           [4, 5]])\n",
      "    >>> np.average(data, axis=1, weights=[1./4, 3./4])\n",
      "    array([0.75, 2.75, 4.75])\n",
      "    >>> np.average(data, weights=[1./4, 3./4])\n",
      "    Traceback (most recent call last):\n",
      "        ...\n",
      "    TypeError: Axis must be specified when shapes of a and weights differ.\n",
      "\n",
      "    >>> a = np.ones(5, dtype=np.float128)\n",
      "    >>> w = np.ones(5, dtype=np.complex64)\n",
      "    >>> avg = np.average(a, weights=w)\n",
      "    >>> print(avg.dtype)\n",
      "    complex256\n",
      "\n",
      "    With ``keepdims=True``, the following result has shape (3, 1).\n",
      "\n",
      "    >>> np.average(data, axis=1, keepdims=True)\n",
      "    array([[0.5],\n",
      "           [2.5],\n",
      "           [4.5]])\n",
      "\n"
     ]
    }
   ],
   "source": [
    "help(np.average)"
   ]
  },
  {
   "cell_type": "markdown",
   "metadata": {},
   "source": [
    "## Basic data structures and functions\n",
    "\n",
    "Before we use empirical data, let's get a feel for scikit-allel's GenotypeArray objects using a simple example. Here, we set up a GenotypeArray with two individuals (as columns) and three loci (as rows). Each integer in this array refers to an allele, where 0 indicates the reference allele, 1 the first alternate allele, 2 the second, etc. Any negative integer indicates missing data. Notice that we are again using `.` after the package name (`allel`). This time, however, we are creating something called a class, which assigns a particular set of variables and associated functions (technically \"methods\") to the object at hand:"
   ]
  },
  {
   "cell_type": "code",
   "execution_count": 44,
   "metadata": {},
   "outputs": [],
   "source": [
    "g = allel.GenotypeArray([[[0, 0], [0, 0]],\n",
    "                         [[0, 0], [0, 1]],\n",
    "                         [[0, 0], [1, 1]],\n",
    "                         [[0, 1], [1, 1]],\n",
    "                         [[1, 1], [1, 1]],\n",
    "                         [[0, 0], [1, 2]],\n",
    "                         [[0, 1], [1, 2]],\n",
    "                         [[0, 1], [-1, -1]],\n",
    "                         [[-1, -1], [-1, -1]]])"
   ]
  },
  {
   "cell_type": "markdown",
   "metadata": {},
   "source": [
    "This is what that object looks like: "
   ]
  },
  {
   "cell_type": "code",
   "execution_count": 46,
   "metadata": {},
   "outputs": [
    {
     "data": {
      "text/html": [
       "<div class=\"allel allel-DisplayAs2D\"><span>&lt;GenotypeArray shape=(9, 2, 2) dtype=int64&gt;</span><table><thead><tr><th></th><th style=\"text-align: center\">0</th><th style=\"text-align: center\">1</th></tr></thead><tbody><tr><th style=\"text-align: center; background-color: white; border-right: 1px solid black; \">0</th><td style=\"text-align: center\">0/0</td><td style=\"text-align: center\">0/0</td></tr><tr><th style=\"text-align: center; background-color: white; border-right: 1px solid black; \">1</th><td style=\"text-align: center\">0/0</td><td style=\"text-align: center\">0/1</td></tr><tr><th style=\"text-align: center; background-color: white; border-right: 1px solid black; \">2</th><td style=\"text-align: center\">0/0</td><td style=\"text-align: center\">1/1</td></tr><tr><th style=\"text-align: center; background-color: white; border-right: 1px solid black; \">...</th><td style=\"text-align: center\" colspan=\"3\">...</td></tr><tr><th style=\"text-align: center; background-color: white; border-right: 1px solid black; \">6</th><td style=\"text-align: center\">0/1</td><td style=\"text-align: center\">1/2</td></tr><tr><th style=\"text-align: center; background-color: white; border-right: 1px solid black; \">7</th><td style=\"text-align: center\">0/1</td><td style=\"text-align: center\">./.</td></tr><tr><th style=\"text-align: center; background-color: white; border-right: 1px solid black; \">8</th><td style=\"text-align: center\">./.</td><td style=\"text-align: center\">./.</td></tr></tbody></table></div>"
      ],
      "text/plain": [
       "<GenotypeArray shape=(9, 2, 2) dtype=int64>\n",
       "0/0 0/0\n",
       "0/0 0/1\n",
       "0/0 1/1\n",
       "...\n",
       "0/1 1/2\n",
       "0/1 ./.\n",
       "./. ./."
      ]
     },
     "execution_count": 46,
     "metadata": {},
     "output_type": "execute_result"
    }
   ],
   "source": [
    "g"
   ]
  },
  {
   "cell_type": "markdown",
   "metadata": {},
   "source": [
    "Our GenotypeArray object \"g\" has attributes reflecting its dimensions, its number of variants, ploidy and sample size. For example: "
   ]
  },
  {
   "cell_type": "code",
   "execution_count": 47,
   "metadata": {},
   "outputs": [
    {
     "data": {
      "text/plain": [
       "3"
      ]
     },
     "execution_count": 47,
     "metadata": {},
     "output_type": "execute_result"
    }
   ],
   "source": [
    "g.ndim"
   ]
  },
  {
   "cell_type": "code",
   "execution_count": 48,
   "metadata": {},
   "outputs": [
    {
     "data": {
      "text/plain": [
       "(9, 2, 2)"
      ]
     },
     "execution_count": 48,
     "metadata": {},
     "output_type": "execute_result"
    }
   ],
   "source": [
    "g.shape"
   ]
  },
  {
   "cell_type": "code",
   "execution_count": 49,
   "metadata": {},
   "outputs": [
    {
     "data": {
      "text/plain": [
       "9"
      ]
     },
     "execution_count": 49,
     "metadata": {},
     "output_type": "execute_result"
    }
   ],
   "source": [
    "g.n_variants"
   ]
  },
  {
   "cell_type": "code",
   "execution_count": 50,
   "metadata": {},
   "outputs": [
    {
     "data": {
      "text/plain": [
       "2"
      ]
     },
     "execution_count": 50,
     "metadata": {},
     "output_type": "execute_result"
    }
   ],
   "source": [
    "g.ploidy"
   ]
  },
  {
   "cell_type": "code",
   "execution_count": 51,
   "metadata": {},
   "outputs": [
    {
     "data": {
      "text/plain": [
       "2"
      ]
     },
     "execution_count": 51,
     "metadata": {},
     "output_type": "execute_result"
    }
   ],
   "source": [
    "g.n_samples"
   ]
  },
  {
   "cell_type": "markdown",
   "metadata": {},
   "source": [
    "With this object, we can begin to get a feel for scikit-allel's functions for describing diversity and divergence. For example, we can calculate observed heterozygosity, generating an array for each locus:"
   ]
  },
  {
   "cell_type": "code",
   "execution_count": 52,
   "metadata": {},
   "outputs": [],
   "source": [
    "het_obs = allel.heterozygosity_observed(g)"
   ]
  },
  {
   "cell_type": "markdown",
   "metadata": {},
   "source": [
    "Using the `namean()` function in `numpy` to ignore NA values, we can calculate the genome-wide average:"
   ]
  },
  {
   "cell_type": "code",
   "execution_count": 53,
   "metadata": {},
   "outputs": [
    {
     "data": {
      "text/plain": [
       "0.4375"
      ]
     },
     "execution_count": 53,
     "metadata": {},
     "output_type": "execute_result"
    }
   ],
   "source": [
    "np.nanmean(het_obs)"
   ]
  },
  {
   "cell_type": "markdown",
   "metadata": {},
   "source": [
    "A natural next step is to see whether these freququencies are a deviation from Hardy-Weinberg Equilibrium. To do so, we first calculate allele frequencies for each locus, using the `count_alleles().to_frequencies()` function. (Note that this is an example of of an object having a particular method—in this case, a method unique to the `GenotypeArray()` class.)"
   ]
  },
  {
   "cell_type": "code",
   "execution_count": 54,
   "metadata": {},
   "outputs": [],
   "source": [
    "af = g.count_alleles().to_frequencies()"
   ]
  },
  {
   "cell_type": "code",
   "execution_count": 55,
   "metadata": {},
   "outputs": [
    {
     "data": {
      "text/plain": [
       "array([[1.  , 0.  , 0.  ],\n",
       "       [0.75, 0.25, 0.  ],\n",
       "       [0.5 , 0.5 , 0.  ],\n",
       "       [0.25, 0.75, 0.  ],\n",
       "       [0.  , 1.  , 0.  ],\n",
       "       [0.5 , 0.25, 0.25],\n",
       "       [0.25, 0.5 , 0.25],\n",
       "       [0.5 , 0.5 , 0.  ],\n",
       "       [ nan,  nan,  nan]])"
      ]
     },
     "execution_count": 55,
     "metadata": {},
     "output_type": "execute_result"
    }
   ],
   "source": [
    "af"
   ]
  },
  {
   "cell_type": "markdown",
   "metadata": {},
   "source": [
    "In this array, each row is a locus, and the columns 0,1 and 2 refer to reference, 1st alternate, and 2nd alternate alleles. Next, we can use these data to calculate expected heterozygosity:"
   ]
  },
  {
   "cell_type": "code",
   "execution_count": 56,
   "metadata": {},
   "outputs": [
    {
     "data": {
      "text/plain": [
       "array([0.   , 0.375, 0.5  , 0.375, 0.   , 0.625, 0.625, 0.5  ,   nan])"
      ]
     },
     "execution_count": 56,
     "metadata": {},
     "output_type": "execute_result"
    }
   ],
   "source": [
    "allel.heterozygosity_expected(af, ploidy=2)"
   ]
  },
  {
   "cell_type": "markdown",
   "metadata": {},
   "source": [
    "Looks different to me! "
   ]
  },
  {
   "cell_type": "markdown",
   "metadata": {},
   "source": [
    "**QUESTION 3:** What is the length of object `af`?"
   ]
  },
  {
   "cell_type": "markdown",
   "metadata": {},
   "source": [
    "## Loading and examining variant data\n",
    "\n",
    "Next up, we're going to pivot to looking at empirical data: specifically, the SNP data associated with your project. These data are in Variant Call Format, and can be found as `*.vcf.gz` in the tutorial folder. \n",
    "\n",
    "To begin, we'll use scikit-allel to import the .vcf as a `numpy` array. Here, it's important to use the regex `'*'` wildcard, in order to extract all possible data from the file. (Note that you will need to replace `\"data/species.vcf.gz\"` with the path to your group's study taxon.)"
   ]
  },
  {
   "cell_type": "code",
   "execution_count": 117,
   "metadata": {},
   "outputs": [
    {
     "ename": "FileNotFoundError",
     "evalue": "[Errno 2] No such file or directory: 'data/species.vcf.gz'",
     "output_type": "error",
     "traceback": [
      "\u001b[0;31m---------------------------------------------------------------------------\u001b[0m",
      "\u001b[0;31mFileNotFoundError\u001b[0m                         Traceback (most recent call last)",
      "Cell \u001b[0;32mIn[117], line 2\u001b[0m\n\u001b[1;32m      1\u001b[0m file \u001b[38;5;241m=\u001b[39m \u001b[38;5;124m\"\u001b[39m\u001b[38;5;124mdata/species.vcf.gz\u001b[39m\u001b[38;5;124m\"\u001b[39m\n\u001b[0;32m----> 2\u001b[0m s \u001b[38;5;241m=\u001b[39m \u001b[43mallel\u001b[49m\u001b[38;5;241;43m.\u001b[39;49m\u001b[43mread_vcf\u001b[49m\u001b[43m(\u001b[49m\u001b[43mfile\u001b[49m\u001b[43m,\u001b[49m\u001b[43m \u001b[49m\u001b[43mfields\u001b[49m\u001b[38;5;241;43m=\u001b[39;49m\u001b[38;5;124;43m'\u001b[39;49m\u001b[38;5;124;43m*\u001b[39;49m\u001b[38;5;124;43m'\u001b[39;49m\u001b[43m)\u001b[49m\n",
      "File \u001b[0;32m/mnt/global/moduleapps/EarthSci/ES-Gphy-F2024/lib/python3.12/site-packages/allel/io/vcf_read.py:304\u001b[0m, in \u001b[0;36mread_vcf\u001b[0;34m(input, fields, exclude_fields, rename_fields, types, numbers, alt_number, fills, region, tabix, samples, transformers, buffer_size, chunk_length, log)\u001b[0m\n\u001b[1;32m    301\u001b[0m store_samples, fields \u001b[38;5;241m=\u001b[39m _prep_fields_param(fields)\n\u001b[1;32m    303\u001b[0m \u001b[38;5;66;03m# setup\u001b[39;00m\n\u001b[0;32m--> 304\u001b[0m fields, samples, headers, it \u001b[38;5;241m=\u001b[39m \u001b[43miter_vcf_chunks\u001b[49m\u001b[43m(\u001b[49m\n\u001b[1;32m    305\u001b[0m \u001b[43m    \u001b[49m\u001b[38;5;28;43minput\u001b[39;49m\u001b[38;5;241;43m=\u001b[39;49m\u001b[38;5;28;43minput\u001b[39;49m\u001b[43m,\u001b[49m\u001b[43m \u001b[49m\u001b[43mfields\u001b[49m\u001b[38;5;241;43m=\u001b[39;49m\u001b[43mfields\u001b[49m\u001b[43m,\u001b[49m\u001b[43m \u001b[49m\u001b[43mexclude_fields\u001b[49m\u001b[38;5;241;43m=\u001b[39;49m\u001b[43mexclude_fields\u001b[49m\u001b[43m,\u001b[49m\u001b[43m \u001b[49m\u001b[43mtypes\u001b[49m\u001b[38;5;241;43m=\u001b[39;49m\u001b[43mtypes\u001b[49m\u001b[43m,\u001b[49m\n\u001b[1;32m    306\u001b[0m \u001b[43m    \u001b[49m\u001b[43mnumbers\u001b[49m\u001b[38;5;241;43m=\u001b[39;49m\u001b[43mnumbers\u001b[49m\u001b[43m,\u001b[49m\u001b[43m \u001b[49m\u001b[43malt_number\u001b[49m\u001b[38;5;241;43m=\u001b[39;49m\u001b[43malt_number\u001b[49m\u001b[43m,\u001b[49m\u001b[43m \u001b[49m\u001b[43mbuffer_size\u001b[49m\u001b[38;5;241;43m=\u001b[39;49m\u001b[43mbuffer_size\u001b[49m\u001b[43m,\u001b[49m\n\u001b[1;32m    307\u001b[0m \u001b[43m    \u001b[49m\u001b[43mchunk_length\u001b[49m\u001b[38;5;241;43m=\u001b[39;49m\u001b[43mchunk_length\u001b[49m\u001b[43m,\u001b[49m\u001b[43m \u001b[49m\u001b[43mfills\u001b[49m\u001b[38;5;241;43m=\u001b[39;49m\u001b[43mfills\u001b[49m\u001b[43m,\u001b[49m\u001b[43m \u001b[49m\u001b[43mregion\u001b[49m\u001b[38;5;241;43m=\u001b[39;49m\u001b[43mregion\u001b[49m\u001b[43m,\u001b[49m\u001b[43m \u001b[49m\u001b[43mtabix\u001b[49m\u001b[38;5;241;43m=\u001b[39;49m\u001b[43mtabix\u001b[49m\u001b[43m,\u001b[49m\n\u001b[1;32m    308\u001b[0m \u001b[43m    \u001b[49m\u001b[43msamples\u001b[49m\u001b[38;5;241;43m=\u001b[39;49m\u001b[43msamples\u001b[49m\u001b[43m,\u001b[49m\u001b[43m \u001b[49m\u001b[43mtransformers\u001b[49m\u001b[38;5;241;43m=\u001b[39;49m\u001b[43mtransformers\u001b[49m\n\u001b[1;32m    309\u001b[0m \u001b[43m\u001b[49m\u001b[43m)\u001b[49m\n\u001b[1;32m    311\u001b[0m \u001b[38;5;66;03m# handle field renaming\u001b[39;00m\n\u001b[1;32m    312\u001b[0m \u001b[38;5;28;01mif\u001b[39;00m rename_fields:\n",
      "File \u001b[0;32m/mnt/global/moduleapps/EarthSci/ES-Gphy-F2024/lib/python3.12/site-packages/allel/io/vcf_read.py:1134\u001b[0m, in \u001b[0;36miter_vcf_chunks\u001b[0;34m(input, fields, exclude_fields, types, numbers, alt_number, fills, region, tabix, samples, transformers, buffer_size, chunk_length)\u001b[0m\n\u001b[1;32m   1129\u001b[0m kwds \u001b[38;5;241m=\u001b[39m \u001b[38;5;28mdict\u001b[39m(fields\u001b[38;5;241m=\u001b[39mfields, exclude_fields\u001b[38;5;241m=\u001b[39mexclude_fields, types\u001b[38;5;241m=\u001b[39mtypes,\n\u001b[1;32m   1130\u001b[0m             numbers\u001b[38;5;241m=\u001b[39mnumbers, alt_number\u001b[38;5;241m=\u001b[39malt_number, chunk_length\u001b[38;5;241m=\u001b[39mchunk_length,\n\u001b[1;32m   1131\u001b[0m             fills\u001b[38;5;241m=\u001b[39mfills, samples\u001b[38;5;241m=\u001b[39msamples, region\u001b[38;5;241m=\u001b[39mregion)\n\u001b[1;32m   1133\u001b[0m \u001b[38;5;66;03m# setup input stream\u001b[39;00m\n\u001b[0;32m-> 1134\u001b[0m stream \u001b[38;5;241m=\u001b[39m \u001b[43m_setup_input_stream\u001b[49m\u001b[43m(\u001b[49m\u001b[38;5;28;43minput\u001b[39;49m\u001b[38;5;241;43m=\u001b[39;49m\u001b[38;5;28;43minput\u001b[39;49m\u001b[43m,\u001b[49m\u001b[43m \u001b[49m\u001b[43mregion\u001b[49m\u001b[38;5;241;43m=\u001b[39;49m\u001b[43mregion\u001b[49m\u001b[43m,\u001b[49m\u001b[43m \u001b[49m\u001b[43mtabix\u001b[49m\u001b[38;5;241;43m=\u001b[39;49m\u001b[43mtabix\u001b[49m\u001b[43m,\u001b[49m\n\u001b[1;32m   1135\u001b[0m \u001b[43m                             \u001b[49m\u001b[43mbuffer_size\u001b[49m\u001b[38;5;241;43m=\u001b[39;49m\u001b[43mbuffer_size\u001b[49m\u001b[43m)\u001b[49m\n\u001b[1;32m   1137\u001b[0m \u001b[38;5;66;03m# setup iterator\u001b[39;00m\n\u001b[1;32m   1138\u001b[0m fields, samples, headers, it \u001b[38;5;241m=\u001b[39m _iter_vcf_stream(stream, \u001b[38;5;241m*\u001b[39m\u001b[38;5;241m*\u001b[39mkwds)\n",
      "File \u001b[0;32m/mnt/global/moduleapps/EarthSci/ES-Gphy-F2024/lib/python3.12/site-packages/allel/io/vcf_read.py:1053\u001b[0m, in \u001b[0;36m_setup_input_stream\u001b[0;34m(input, region, tabix, buffer_size)\u001b[0m\n\u001b[1;32m   1050\u001b[0m             close \u001b[38;5;241m=\u001b[39m \u001b[38;5;28;01mTrue\u001b[39;00m\n\u001b[1;32m   1052\u001b[0m     \u001b[38;5;28;01melse\u001b[39;00m:\n\u001b[0;32m-> 1053\u001b[0m         fileobj \u001b[38;5;241m=\u001b[39m \u001b[43mgzip\u001b[49m\u001b[38;5;241;43m.\u001b[39;49m\u001b[43mopen\u001b[49m\u001b[43m(\u001b[49m\u001b[38;5;28;43minput\u001b[39;49m\u001b[43m,\u001b[49m\u001b[43m \u001b[49m\u001b[43mmode\u001b[49m\u001b[38;5;241;43m=\u001b[39;49m\u001b[38;5;124;43m'\u001b[39;49m\u001b[38;5;124;43mrb\u001b[39;49m\u001b[38;5;124;43m'\u001b[39;49m\u001b[43m)\u001b[49m\n\u001b[1;32m   1054\u001b[0m         close \u001b[38;5;241m=\u001b[39m \u001b[38;5;28;01mTrue\u001b[39;00m\n\u001b[1;32m   1056\u001b[0m \u001b[38;5;28;01melif\u001b[39;00m \u001b[38;5;28misinstance\u001b[39m(\u001b[38;5;28minput\u001b[39m, \u001b[38;5;28mstr\u001b[39m):\n\u001b[1;32m   1057\u001b[0m     \u001b[38;5;66;03m# assume no compression\u001b[39;00m\n",
      "File \u001b[0;32m/mnt/global/moduleapps/EarthSci/ES-Gphy-F2024/lib/python3.12/gzip.py:61\u001b[0m, in \u001b[0;36mopen\u001b[0;34m(filename, mode, compresslevel, encoding, errors, newline)\u001b[0m\n\u001b[1;32m     59\u001b[0m gz_mode \u001b[38;5;241m=\u001b[39m mode\u001b[38;5;241m.\u001b[39mreplace(\u001b[38;5;124m\"\u001b[39m\u001b[38;5;124mt\u001b[39m\u001b[38;5;124m\"\u001b[39m, \u001b[38;5;124m\"\u001b[39m\u001b[38;5;124m\"\u001b[39m)\n\u001b[1;32m     60\u001b[0m \u001b[38;5;28;01mif\u001b[39;00m \u001b[38;5;28misinstance\u001b[39m(filename, (\u001b[38;5;28mstr\u001b[39m, \u001b[38;5;28mbytes\u001b[39m, os\u001b[38;5;241m.\u001b[39mPathLike)):\n\u001b[0;32m---> 61\u001b[0m     binary_file \u001b[38;5;241m=\u001b[39m \u001b[43mGzipFile\u001b[49m\u001b[43m(\u001b[49m\u001b[43mfilename\u001b[49m\u001b[43m,\u001b[49m\u001b[43m \u001b[49m\u001b[43mgz_mode\u001b[49m\u001b[43m,\u001b[49m\u001b[43m \u001b[49m\u001b[43mcompresslevel\u001b[49m\u001b[43m)\u001b[49m\n\u001b[1;32m     62\u001b[0m \u001b[38;5;28;01melif\u001b[39;00m \u001b[38;5;28mhasattr\u001b[39m(filename, \u001b[38;5;124m\"\u001b[39m\u001b[38;5;124mread\u001b[39m\u001b[38;5;124m\"\u001b[39m) \u001b[38;5;129;01mor\u001b[39;00m \u001b[38;5;28mhasattr\u001b[39m(filename, \u001b[38;5;124m\"\u001b[39m\u001b[38;5;124mwrite\u001b[39m\u001b[38;5;124m\"\u001b[39m):\n\u001b[1;32m     63\u001b[0m     binary_file \u001b[38;5;241m=\u001b[39m GzipFile(\u001b[38;5;28;01mNone\u001b[39;00m, gz_mode, compresslevel, filename)\n",
      "File \u001b[0;32m/mnt/global/moduleapps/EarthSci/ES-Gphy-F2024/lib/python3.12/gzip.py:192\u001b[0m, in \u001b[0;36mGzipFile.__init__\u001b[0;34m(self, filename, mode, compresslevel, fileobj, mtime)\u001b[0m\n\u001b[1;32m    190\u001b[0m     mode \u001b[38;5;241m+\u001b[39m\u001b[38;5;241m=\u001b[39m \u001b[38;5;124m'\u001b[39m\u001b[38;5;124mb\u001b[39m\u001b[38;5;124m'\u001b[39m\n\u001b[1;32m    191\u001b[0m \u001b[38;5;28;01mif\u001b[39;00m fileobj \u001b[38;5;129;01mis\u001b[39;00m \u001b[38;5;28;01mNone\u001b[39;00m:\n\u001b[0;32m--> 192\u001b[0m     fileobj \u001b[38;5;241m=\u001b[39m \u001b[38;5;28mself\u001b[39m\u001b[38;5;241m.\u001b[39mmyfileobj \u001b[38;5;241m=\u001b[39m \u001b[43mbuiltins\u001b[49m\u001b[38;5;241;43m.\u001b[39;49m\u001b[43mopen\u001b[49m\u001b[43m(\u001b[49m\u001b[43mfilename\u001b[49m\u001b[43m,\u001b[49m\u001b[43m \u001b[49m\u001b[43mmode\u001b[49m\u001b[43m \u001b[49m\u001b[38;5;129;43;01mor\u001b[39;49;00m\u001b[43m \u001b[49m\u001b[38;5;124;43m'\u001b[39;49m\u001b[38;5;124;43mrb\u001b[39;49m\u001b[38;5;124;43m'\u001b[39;49m\u001b[43m)\u001b[49m\n\u001b[1;32m    193\u001b[0m \u001b[38;5;28;01mif\u001b[39;00m filename \u001b[38;5;129;01mis\u001b[39;00m \u001b[38;5;28;01mNone\u001b[39;00m:\n\u001b[1;32m    194\u001b[0m     filename \u001b[38;5;241m=\u001b[39m \u001b[38;5;28mgetattr\u001b[39m(fileobj, \u001b[38;5;124m'\u001b[39m\u001b[38;5;124mname\u001b[39m\u001b[38;5;124m'\u001b[39m, \u001b[38;5;124m'\u001b[39m\u001b[38;5;124m'\u001b[39m)\n",
      "\u001b[0;31mFileNotFoundError\u001b[0m: [Errno 2] No such file or directory: 'data/species.vcf.gz'"
     ]
    }
   ],
   "source": [
    "file = \"data/species.vcf.gz\"\n",
    "s = allel.read_vcf(file, fields='*')"
   ]
  },
  {
   "cell_type": "markdown",
   "metadata": {},
   "source": [
    "The `numpy` array object `r` has a set of keys representing aspects of the .vcf file. We can list these with the `.keys()` function, sorting by name:"
   ]
  },
  {
   "cell_type": "code",
   "execution_count": 60,
   "metadata": {},
   "outputs": [
    {
     "data": {
      "text/plain": [
       "['calldata/AD',\n",
       " 'calldata/DP',\n",
       " 'calldata/GL',\n",
       " 'calldata/GT',\n",
       " 'samples',\n",
       " 'variants/AF',\n",
       " 'variants/ALT',\n",
       " 'variants/CHROM',\n",
       " 'variants/FILTER_PASS',\n",
       " 'variants/ID',\n",
       " 'variants/NS',\n",
       " 'variants/POS',\n",
       " 'variants/QUAL',\n",
       " 'variants/REF',\n",
       " 'variants/altlen',\n",
       " 'variants/is_snp',\n",
       " 'variants/numalt']"
      ]
     },
     "execution_count": 60,
     "metadata": {},
     "output_type": "execute_result"
    }
   ],
   "source": [
    "sorted(s.keys())"
   ]
  },
  {
   "cell_type": "markdown",
   "metadata": {},
   "source": [
    "Here, anything begining with \"callset\" is from the INFO field of the .vcf, while \"variants\" refers to data associated with each SNP (or site, if you have invariant alleles in your file). (Some of this information, e.g. depth, is redundant, depending on your SNP caller.) To examine any of these in greater detail, we can select the relevant index. For example, to look at the position of these SNPs (relative to the reference genome or sequence they were aligned to), we can select `variants/POS` key. Here, we use brackets with a `String` inside to select a column with a particular label:"
   ]
  },
  {
   "cell_type": "code",
   "execution_count": 68,
   "metadata": {},
   "outputs": [
    {
     "data": {
      "text/plain": [
       "array([    200,     219,     494, ..., 2700936,   50420,   94020],\n",
       "      dtype=int32)"
      ]
     },
     "execution_count": 68,
     "metadata": {},
     "output_type": "execute_result"
    }
   ],
   "source": [
    "s['variants/POS']"
   ]
  },
  {
   "cell_type": "markdown",
   "metadata": {},
   "source": [
    "Similarly, we can list all sample IDs, which in most cases will be filenames from one of the various bioinformatics processing steps used to generate the final `.vcf` file:"
   ]
  },
  {
   "cell_type": "code",
   "execution_count": 69,
   "metadata": {},
   "outputs": [
    {
     "data": {
      "text/plain": [
       "array(['EPAMB001.filter.sorted.dup', 'EPAMB002.filter.sorted.dup',\n",
       "       'EPAMB006.filter.sorted.dup', 'EPAMB007.filter.sorted.dup',\n",
       "       'EPAMB008.filter.sorted.dup', 'EPAMB010.filter.sorted.dup',\n",
       "       'EPAMB012.filter.sorted.dup', 'EPAMB013.filter.sorted.dup',\n",
       "       'EPAMB014.filter.sorted.dup', 'EPAMB016.filter.sorted.dup',\n",
       "       'EPAMB018.filter.sorted.dup', 'EPAMB019.filter.sorted.dup',\n",
       "       'EPAMB020.filter.sorted.dup', 'EPAMB022.filter.sorted.dup',\n",
       "       'EPAMB029.filter.sorted.dup', 'EPAMB030.filter.sorted.dup',\n",
       "       'EPAUS001.filter.sorted.dup', 'EPAUS002.filter.sorted.dup',\n",
       "       'EPAUS004.filter.sorted.dup', 'EPAUS010.filter.sorted.dup',\n",
       "       'EPAUS011.filter.sorted.dup', 'EPAUS015.filter.sorted.dup',\n",
       "       'EPAUS016.filter.sorted.dup', 'EPAUS017.filter.sorted.dup',\n",
       "       'EPAUS018.filter.sorted.dup', 'EPAUS019.filter.sorted.dup',\n",
       "       'EPAUS020.filter.sorted.dup', 'EPAUS022.filter.sorted.dup',\n",
       "       'EPAUS023.filter.sorted.dup', 'EPAUS024.filter.sorted.dup',\n",
       "       'EPAUS025.filter.sorted.dup', 'EPAUS027.filter.sorted.dup',\n",
       "       'EPCRD001.filter.sorted.dup', 'EPCRD002.filter.sorted.dup',\n",
       "       'EPCRD004.filter.sorted.dup', 'EPCRD006.filter.sorted.dup',\n",
       "       'EPCRD007.filter.sorted.dup', 'EPCRD008.filter.sorted.dup',\n",
       "       'EPCRD016.filter.sorted.dup', 'EPCRD017.filter.sorted.dup',\n",
       "       'EPCRD019.filter.sorted.dup', 'EPCRD020.filter.sorted.dup',\n",
       "       'EPCWA002.filter.sorted.dup', 'EPCWA003.filter.sorted.dup',\n",
       "       'EPCWA006.filter.sorted.dup', 'EPCWA007.filter.sorted.dup',\n",
       "       'EPCWB004.filter.sorted.dup', 'EPCWB005.filter.sorted.dup',\n",
       "       'EPCWB031.filter.sorted.dup', 'EPCWC014.filter.sorted.dup',\n",
       "       'EPCWC050.filter.sorted.dup', 'EPCWS002.filter.sorted.dup',\n",
       "       'EPCWS003.filter.sorted.dup', 'EPDDU001.filter.sorted.dup',\n",
       "       'EPDDU002.filter.sorted.dup', 'EPDDU004.filter.sorted.dup',\n",
       "       'EPDDU005.filter.sorted.dup', 'EPDDU007.filter.sorted.dup',\n",
       "       'EPDDU008.filter.sorted.dup', 'EPDDU009.filter.sorted.dup',\n",
       "       'EPDDU010.filter.sorted.dup', 'EPDDU012.filter.sorted.dup',\n",
       "       'EPDDU014.filter.sorted.dup', 'EPDDU027.filter.sorted.dup',\n",
       "       'EPDDU028.filter.sorted.dup', 'EPDDU029.filter.sorted.dup',\n",
       "       'EPDDU030.filter.sorted.dup', 'EPDDU105.filter.sorted.dup',\n",
       "       'EPFLD001.filter.sorted.dup', 'EPFLD002.filter.sorted.dup',\n",
       "       'EPFLD004.filter.sorted.dup', 'EPFLD010.filter.sorted.dup',\n",
       "       'EPFLD011.filter.sorted.dup', 'EPFLD012.filter.sorted.dup',\n",
       "       'EPFLD014.filter.sorted.dup', 'EPFLD015.filter.sorted.dup',\n",
       "       'EPFLD016.filter.sorted.dup', 'EPFLD020.filter.sorted.dup',\n",
       "       'EPFLD022.filter.sorted.dup', 'EPFLD023.filter.sorted.dup',\n",
       "       'EPFLD024.filter.sorted.dup', 'EPFLD026.filter.sorted.dup',\n",
       "       'EPFLD027.filter.sorted.dup', 'EPFLD028.filter.sorted.dup',\n",
       "       'EPGOU030.filter.sorted.dup', 'EPGOU031.filter.sorted.dup',\n",
       "       'EPGOU034.filter.sorted.dup', 'EPGOU035.filter.sorted.dup',\n",
       "       'EPGOU036.filter.sorted.dup', 'EPGOU037.filter.sorted.dup',\n",
       "       'EPGOU038.filter.sorted.dup', 'EPGOU039.filter.sorted.dup',\n",
       "       'EPGOU040.filter.sorted.dup', 'EPGOU041.filter.sorted.dup',\n",
       "       'EPGOU043.filter.sorted.dup', 'EPGOU044.filter.sorted.dup',\n",
       "       'EPGOU045.filter.sorted.dup', 'EPWIS001.filter.sorted.dup',\n",
       "       'EPWIS002.filter.sorted.dup', 'EPWIS007.filter.sorted.dup',\n",
       "       'EPWIS009.filter.sorted.dup', 'EPWIS011.filter.sorted.dup',\n",
       "       'EPWIS012.filter.sorted.dup', 'EPWIS013.filter.sorted.dup',\n",
       "       'EPWIS014.filter.sorted.dup', 'EPWIS015.filter.sorted.dup',\n",
       "       'EPWIS021.filter.sorted.dup', 'EPWIS024.filter.sorted.dup',\n",
       "       'EPWIS025.filter.sorted.dup', 'EPWIS026.filter.sorted.dup'],\n",
       "      dtype=object)"
      ]
     },
     "execution_count": 69,
     "metadata": {},
     "output_type": "execute_result"
    }
   ],
   "source": [
    "s['samples']"
   ]
  },
  {
   "cell_type": "markdown",
   "metadata": {},
   "source": [
    "Besides simply *looking* at these data, these keys can be used to filter SNPs based on various criteria. First, though, you may want to know how many SNPs you acutally have. We can evaluate this by taking the first entry from the `shape` attribute of the array (i.e., its length): "
   ]
  },
  {
   "cell_type": "code",
   "execution_count": 70,
   "metadata": {},
   "outputs": [
    {
     "data": {
      "text/plain": [
       "4596"
      ]
     },
     "execution_count": 70,
     "metadata": {},
     "output_type": "execute_result"
    }
   ],
   "source": [
    "s['calldata/GT'].shape[0]"
   ]
  },
  {
   "cell_type": "markdown",
   "metadata": {},
   "source": [
    "Next, let's take the actual genotype calls from the vcf-turned-numpy-array and turn it into the GenotypeArray object we're familiar with:"
   ]
  },
  {
   "cell_type": "code",
   "execution_count": 71,
   "metadata": {
    "scrolled": true
   },
   "outputs": [
    {
     "data": {
      "text/html": [
       "<div class=\"allel allel-DisplayAs2D\"><span>&lt;GenotypeArray shape=(4596, 110, 2) dtype=int8&gt;</span><table><thead><tr><th></th><th style=\"text-align: center\">0</th><th style=\"text-align: center\">1</th><th style=\"text-align: center\">2</th><th style=\"text-align: center\">3</th><th style=\"text-align: center\">4</th><th style=\"text-align: center\">...</th><th style=\"text-align: center\">105</th><th style=\"text-align: center\">106</th><th style=\"text-align: center\">107</th><th style=\"text-align: center\">108</th><th style=\"text-align: center\">109</th></tr></thead><tbody><tr><th style=\"text-align: center; background-color: white; border-right: 1px solid black; \">0</th><td style=\"text-align: center\">0/0</td><td style=\"text-align: center\">0/0</td><td style=\"text-align: center\">0/0</td><td style=\"text-align: center\">0/0</td><td style=\"text-align: center\">0/0</td><td style=\"text-align: center\">...</td><td style=\"text-align: center\">0/0</td><td style=\"text-align: center\">0/0</td><td style=\"text-align: center\">0/1</td><td style=\"text-align: center\">0/0</td><td style=\"text-align: center\">0/0</td></tr><tr><th style=\"text-align: center; background-color: white; border-right: 1px solid black; \">1</th><td style=\"text-align: center\">0/0</td><td style=\"text-align: center\">0/0</td><td style=\"text-align: center\">0/0</td><td style=\"text-align: center\">0/0</td><td style=\"text-align: center\">0/0</td><td style=\"text-align: center\">...</td><td style=\"text-align: center\">0/0</td><td style=\"text-align: center\">0/0</td><td style=\"text-align: center\">0/0</td><td style=\"text-align: center\">0/0</td><td style=\"text-align: center\">0/0</td></tr><tr><th style=\"text-align: center; background-color: white; border-right: 1px solid black; \">2</th><td style=\"text-align: center\">0/0</td><td style=\"text-align: center\">0/0</td><td style=\"text-align: center\">0/0</td><td style=\"text-align: center\">1/0</td><td style=\"text-align: center\">0/0</td><td style=\"text-align: center\">...</td><td style=\"text-align: center\">0/0</td><td style=\"text-align: center\">0/0</td><td style=\"text-align: center\">1/0</td><td style=\"text-align: center\">0/0</td><td style=\"text-align: center\">0/0</td></tr><tr><th style=\"text-align: center; background-color: white; border-right: 1px solid black; \">...</th><td style=\"text-align: center\" colspan=\"12\">...</td></tr><tr><th style=\"text-align: center; background-color: white; border-right: 1px solid black; \">4593</th><td style=\"text-align: center\">0/0</td><td style=\"text-align: center\">0/0</td><td style=\"text-align: center\">0/0</td><td style=\"text-align: center\">0/0</td><td style=\"text-align: center\">0/0</td><td style=\"text-align: center\">...</td><td style=\"text-align: center\">0/0</td><td style=\"text-align: center\">0/0</td><td style=\"text-align: center\">0/0</td><td style=\"text-align: center\">0/0</td><td style=\"text-align: center\">0/0</td></tr><tr><th style=\"text-align: center; background-color: white; border-right: 1px solid black; \">4594</th><td style=\"text-align: center\">0/0</td><td style=\"text-align: center\">0/0</td><td style=\"text-align: center\">1/1</td><td style=\"text-align: center\">0/0</td><td style=\"text-align: center\">0/1</td><td style=\"text-align: center\">...</td><td style=\"text-align: center\">0/0</td><td style=\"text-align: center\">0/0</td><td style=\"text-align: center\">0/0</td><td style=\"text-align: center\">0/0</td><td style=\"text-align: center\">0/0</td></tr><tr><th style=\"text-align: center; background-color: white; border-right: 1px solid black; \">4595</th><td style=\"text-align: center\">0/0</td><td style=\"text-align: center\">0/0</td><td style=\"text-align: center\">0/0</td><td style=\"text-align: center\">1/1</td><td style=\"text-align: center\">0/0</td><td style=\"text-align: center\">...</td><td style=\"text-align: center\">0/0</td><td style=\"text-align: center\">0/0</td><td style=\"text-align: center\">0/0</td><td style=\"text-align: center\">0/0</td><td style=\"text-align: center\">1/0</td></tr></tbody></table></div>"
      ],
      "text/plain": [
       "<GenotypeArray shape=(4596, 110, 2) dtype=int8>\n",
       "0/0 0/0 0/0 0/0 0/0 ... 0/0 0/0 0/1 0/0 0/0\n",
       "0/0 0/0 0/0 0/0 0/0 ... 0/0 0/0 0/0 0/0 0/0\n",
       "0/0 0/0 0/0 1/0 0/0 ... 0/0 0/0 1/0 0/0 0/0\n",
       "...\n",
       "0/0 0/0 0/0 0/0 0/0 ... 0/0 0/0 0/0 0/0 0/0\n",
       "0/0 0/0 1/1 0/0 0/1 ... 0/0 0/0 0/0 0/0 0/0\n",
       "0/0 0/0 0/0 1/1 0/0 ... 0/0 0/0 0/0 0/0 1/0"
      ]
     },
     "execution_count": 71,
     "metadata": {},
     "output_type": "execute_result"
    }
   ],
   "source": [
    "gt = s['calldata/GT']\n",
    "gt = allel.GenotypeArray(gt)\n",
    "gt"
   ]
  },
  {
   "cell_type": "markdown",
   "metadata": {},
   "source": [
    "**QUESTION 4:** How many samples are in your dataset?"
   ]
  },
  {
   "cell_type": "markdown",
   "metadata": {},
   "source": [
    "## Metrics of Genetic Giversity"
   ]
  },
  {
   "cell_type": "markdown",
   "metadata": {},
   "source": [
    "Let's calculate the frequencies of different alleles (SNPs) using the `count_alleles().to_frequencies()` function introduced above, saving them to a new object. "
   ]
  },
  {
   "cell_type": "code",
   "execution_count": 72,
   "metadata": {
    "scrolled": true
   },
   "outputs": [
    {
     "data": {
      "text/plain": [
       "array([[0.94444444, 0.05555556],\n",
       "       [0.98058252, 0.01941748],\n",
       "       [0.91176471, 0.08823529],\n",
       "       ...,\n",
       "       [0.91284404, 0.08715596],\n",
       "       [0.93055556, 0.06944444],\n",
       "       [0.64220183, 0.35779817]])"
      ]
     },
     "execution_count": 72,
     "metadata": {},
     "output_type": "execute_result"
    }
   ],
   "source": [
    "af_gt = gt.count_alleles().to_frequencies()\n",
    "af_gt"
   ]
  },
  {
   "cell_type": "markdown",
   "metadata": {},
   "source": [
    "We can select a single site using brackets—for example, the following line of code gives us the frequencies of the two alleles at the first site in the genome:"
   ]
  },
  {
   "cell_type": "code",
   "execution_count": 73,
   "metadata": {},
   "outputs": [
    {
     "data": {
      "text/plain": [
       "array([0.98058252, 0.01941748])"
      ]
     },
     "execution_count": 73,
     "metadata": {},
     "output_type": "execute_result"
    }
   ],
   "source": [
    "af_gt[1]"
   ]
  },
  {
   "cell_type": "markdown",
   "metadata": {},
   "source": [
    "We can use the following function to calculate *observed* heterozygosity at one or more SNPs, again using brackets to select a particular location in the genome:"
   ]
  },
  {
   "cell_type": "code",
   "execution_count": 74,
   "metadata": {},
   "outputs": [
    {
     "data": {
      "text/plain": [
       "0.2727272727272727"
      ]
     },
     "execution_count": 74,
     "metadata": {},
     "output_type": "execute_result"
    }
   ],
   "source": [
    "h_o = allel.heterozygosity_observed(gt)[32] #this selects the SNP at site 32\n",
    "h_o"
   ]
  },
  {
   "cell_type": "markdown",
   "metadata": {},
   "source": [
    "The function `allel.heterozygosity_expected` works similarly: "
   ]
  },
  {
   "cell_type": "code",
   "execution_count": 75,
   "metadata": {},
   "outputs": [
    {
     "data": {
      "text/plain": [
       "0.27371900826446294"
      ]
     },
     "execution_count": 75,
     "metadata": {},
     "output_type": "execute_result"
    }
   ],
   "source": [
    "h_e = allel.heterozygosity_expected(af_gt, ploidy=2)[32] #this selects the SNP at site 32\n",
    "h_e"
   ]
  },
  {
   "cell_type": "markdown",
   "metadata": {},
   "source": [
    "Recall that $F_{IS}=1-\\frac{H_O}{H_E}$. We therefore have enough to calculate the value of the inbreeding coefficient for any locus:"
   ]
  },
  {
   "cell_type": "code",
   "execution_count": 76,
   "metadata": {},
   "outputs": [
    {
     "data": {
      "text/plain": [
       "0.0036231884057976727"
      ]
     },
     "execution_count": 76,
     "metadata": {},
     "output_type": "execute_result"
    }
   ],
   "source": [
    " allel.inbreeding_coefficient(gt)[32]"
   ]
  },
  {
   "cell_type": "markdown",
   "metadata": {},
   "source": [
    "**QUESTION 5:** In a new code chunk, calculate $H_0$, $H_E$, and $F_{IS}$ for SNPs at positions 6, 19, and 72, recording your results."
   ]
  },
  {
   "cell_type": "markdown",
   "metadata": {},
   "source": [
    "Another basic descriptive task in conservation and population genetics is assessing the diversity across loci in a set of samples. Our empiricial data have already been filtered down to variant sites, so we'll work with the simple genotype array we designated `g` above to get a hang of how a few functions work. Let's start by calculating $\\pi$, or the average number of pairwise differences between all possible pairs of sampled haploid genomes. First, we need to convert our genotype array into counts of each allele at each position. (Note that the maximum value will be 2N=4.)"
   ]
  },
  {
   "cell_type": "code",
   "execution_count": 77,
   "metadata": {},
   "outputs": [
    {
     "data": {
      "text/html": [
       "<div class=\"allel allel-DisplayAs2D\"><span>&lt;AlleleCountsArray shape=(9, 3) dtype=int32&gt;</span><table><thead><tr><th></th><th style=\"text-align: center\">0</th><th style=\"text-align: center\">1</th><th style=\"text-align: center\">2</th></tr></thead><tbody><tr><th style=\"text-align: center; background-color: white; border-right: 1px solid black; \">0</th><td style=\"text-align: center\">4</td><td style=\"text-align: center\">0</td><td style=\"text-align: center\">0</td></tr><tr><th style=\"text-align: center; background-color: white; border-right: 1px solid black; \">1</th><td style=\"text-align: center\">3</td><td style=\"text-align: center\">1</td><td style=\"text-align: center\">0</td></tr><tr><th style=\"text-align: center; background-color: white; border-right: 1px solid black; \">2</th><td style=\"text-align: center\">2</td><td style=\"text-align: center\">2</td><td style=\"text-align: center\">0</td></tr><tr><th style=\"text-align: center; background-color: white; border-right: 1px solid black; \">...</th><td style=\"text-align: center\" colspan=\"4\">...</td></tr><tr><th style=\"text-align: center; background-color: white; border-right: 1px solid black; \">6</th><td style=\"text-align: center\">1</td><td style=\"text-align: center\">2</td><td style=\"text-align: center\">1</td></tr><tr><th style=\"text-align: center; background-color: white; border-right: 1px solid black; \">7</th><td style=\"text-align: center\">1</td><td style=\"text-align: center\">1</td><td style=\"text-align: center\">0</td></tr><tr><th style=\"text-align: center; background-color: white; border-right: 1px solid black; \">8</th><td style=\"text-align: center\">0</td><td style=\"text-align: center\">0</td><td style=\"text-align: center\">0</td></tr></tbody></table></div>"
      ],
      "text/plain": [
       "<AlleleCountsArray shape=(9, 3) dtype=int32>\n",
       "4 0 0\n",
       "3 1 0\n",
       "2 2 0\n",
       "...\n",
       "1 2 1\n",
       "1 1 0\n",
       "0 0 0"
      ]
     },
     "execution_count": 77,
     "metadata": {},
     "output_type": "execute_result"
    }
   ],
   "source": [
    "g_ac = g.count_alleles()\n",
    "g_ac"
   ]
  },
  {
   "cell_type": "markdown",
   "metadata": {},
   "source": [
    "There are 9 sites in this allele count array. Let's imagine they correspond to positions 2,4,7,14,15,18,19, and 27 in a reference genome that is 32 nucleotides long. We can indicate this with an array assigned to `pos`, and then calculate $\\pi$ using the function `allel.sequence_diversity()`. (Note that positions 1 through 31 indicate the stretch of the genome these SNPs are taken from, including invariant sites.)"
   ]
  },
  {
   "cell_type": "code",
   "execution_count": 78,
   "metadata": {},
   "outputs": [
    {
     "data": {
      "text/plain": [
       "0.13978494623655915"
      ]
     },
     "execution_count": 78,
     "metadata": {},
     "output_type": "execute_result"
    }
   ],
   "source": [
    "pos = [2, 4, 7, 14, 15, 18, 19, 25, 27]\n",
    "pi = allel.sequence_diversity(pos, g_ac, start=1, stop=31)\n",
    "pi"
   ]
  },
  {
   "cell_type": "markdown",
   "metadata": {},
   "source": [
    "Another useful metric of diversity is the mean number of pairwise differences for a particular locus. For SNP data, this is equivalent to comparing each allele in each individual and scoring them as 0 (no difference) or 1 (different alleles). We can calculate this for all SNPs in our empirical data"
   ]
  },
  {
   "cell_type": "code",
   "execution_count": 79,
   "metadata": {},
   "outputs": [
    {
     "data": {
      "text/plain": [
       "array([0.10542636, 0.03826664, 0.16169226, ..., 0.15985287, 0.12984496,\n",
       "       0.46167505])"
      ]
     },
     "execution_count": 79,
     "metadata": {},
     "output_type": "execute_result"
    }
   ],
   "source": [
    "gt_ac = gt.count_alleles()\n",
    "dif = allel.mean_pairwise_difference(gt_ac)\n",
    "dif"
   ]
  },
  {
   "cell_type": "markdown",
   "metadata": {},
   "source": [
    "**QUESTION 6:** The basic Python 3 function `max()` calculates the maximum value of a given array. What is the largest mean pairwise difference value in your dataset?"
   ]
  },
  {
   "cell_type": "markdown",
   "metadata": {},
   "source": [
    "## Linkage Disequilibrium "
   ]
  },
  {
   "cell_type": "markdown",
   "metadata": {},
   "source": [
    "Recall that linkage disequilibrium—the association of alleles at different loci at great—is typically measured by the metric $D$. A related metric, $r$, [can be interpreted as the correlation between two diploid genotypes](https://doi.org/10.1534/genetics.108.093153). We can calculate this for our empirical data after first manipulating our genotype array to instead display the number of non-reference alleles (i.e., we are coding diploid genotypes for each individual at each SNP by the number of alleles they have that are different than the reference genome):"
   ]
  },
  {
   "cell_type": "code",
   "execution_count": 81,
   "metadata": {},
   "outputs": [
    {
     "data": {
      "text/plain": [
       "array([ 0,  0,  0,  0,  0,  0,  0,  0,  0,  0,  0,  0, -1,  0,  0,  1,  0,\n",
       "        1,  0,  0,  0,  1,  0,  1,  0,  0,  1,  0,  0,  0,  0,  0,  0,  0,\n",
       "        0,  0,  0,  1, -1, -1,  0,  0,  0,  1,  0,  0,  0,  0,  0,  0,  0,\n",
       "       -1,  0,  0,  0,  0,  0,  0,  0,  0,  0,  0,  0,  0,  0,  0,  0,  0,\n",
       "        0,  1,  0,  0,  0,  0,  2,  0,  0,  0,  1,  0,  0,  1,  1,  0,  0,\n",
       "        0,  0,  0,  0,  1,  0,  0,  0,  0,  0,  0,  0,  0,  0,  0,  0,  0,\n",
       "        0,  0,  0,  1,  0,  0,  0,  0], dtype=int8)"
      ]
     },
     "execution_count": 81,
     "metadata": {},
     "output_type": "execute_result"
    }
   ],
   "source": [
    "gt_subset = gt[1:50]\n",
    "gt_an = gt_subset.to_n_alt(fill=-1)\n",
    "gt_an[41]"
   ]
  },
  {
   "cell_type": "markdown",
   "metadata": {},
   "source": [
    "A seperate function returns a matrix of pairwise (sample to sample) LD values: "
   ]
  },
  {
   "cell_type": "code",
   "execution_count": 82,
   "metadata": {},
   "outputs": [
    {
     "data": {
      "text/plain": [
       "array([-0.09450352, -0.04255319, -0.0695048 , ..., -0.0667071 ,\n",
       "       -0.0667071 , -0.03809524], dtype=float32)"
      ]
     },
     "execution_count": 82,
     "metadata": {},
     "output_type": "execute_result"
    }
   ],
   "source": [
    "ld = allel.rogers_huff_r(gt_an)\n",
    "ld"
   ]
  },
  {
   "cell_type": "markdown",
   "metadata": {},
   "source": [
    "We can plot these using a built in function: "
   ]
  },
  {
   "cell_type": "code",
   "execution_count": 83,
   "metadata": {},
   "outputs": [
    {
     "data": {
      "text/plain": [
       "<Axes: >"
      ]
     },
     "execution_count": 83,
     "metadata": {},
     "output_type": "execute_result"
    },
    {
     "data": {
      "image/png": "[encoded data removed]",
      "text/plain": [
       "<Figure size 640x640 with 2 Axes>"
      ]
     },
     "metadata": {},
     "output_type": "display_data"
    }
   ],
   "source": [
    "allel.plot_pairwise_ld(ld, colorbar=True, ax=None, imshow_kwargs=None)"
   ]
  },
  {
   "cell_type": "markdown",
   "metadata": {},
   "source": [
    "**QUESTION 7:** What is the largest value of $r$ in your dataset? Is it low or high?"
   ]
  },
  {
   "cell_type": "markdown",
   "metadata": {},
   "source": [
    "Let's plot a histogram of these same data. What do you notice?"
   ]
  },
  {
   "cell_type": "code",
   "execution_count": 84,
   "metadata": {},
   "outputs": [
    {
     "data": {
      "image/png": "[encoded data removed]",
      "text/plain": [
       "<Figure size 640x480 with 1 Axes>"
      ]
     },
     "metadata": {},
     "output_type": "display_data"
    }
   ],
   "source": [
    "plt.hist(ld, bins='auto') # arguments are passed to np.histogram\n",
    "plt.title(\"Histogram of pairwise $r$ values\")\n",
    "plt.show()"
   ]
  },
  {
   "cell_type": "markdown",
   "metadata": {},
   "source": [
    "## Population Subdivision"
   ]
  },
  {
   "cell_type": "markdown",
   "metadata": {},
   "source": [
    "Most (all?) of your datasets include samples from multiple, geographically isolated populations. Properly analyzing these data would require linking sample IDs to specific populations, which should be possible, but is difficult to standardize across datasets for our purposes. Therefore, you can decide to choose one of two options to estimate $F_{ST}$ for your dataset: 1) an arbitrary assignment of samples to \"subpopulations\"; or 2) accurately assigning individuals to subpopulations on the basis of the source paper and / or other files in the [Dryad repository linked on GitHub](https://github.com/elinck/conservation_genetics). \n",
    "\n",
    "For the first option, we will arbitrarily divide our samples and associated alelle count arrays into two groups: "
   ]
  },
  {
   "cell_type": "code",
   "execution_count": 85,
   "metadata": {},
   "outputs": [
    {
     "data": {
      "text/plain": [
       "0.001327916669905029"
      ]
     },
     "execution_count": 85,
     "metadata": {},
     "output_type": "execute_result"
    }
   ],
   "source": [
    "first_half = int(gt.n_samples/2) # select a sample number half-way through the total number of samples\n",
    "second_half = int(gt.n_samples) # select the final sample\n",
    "subpops = list(range(first_half)), list(range(first_half+1,second_half)) # assign subpopulations as a list of sample numbers\n",
    "gt_ac1 = gt.count_alleles(subpop=subpops[0]) # calculate allele counts for the first \"subpopulation\"\n",
    "gt_ac2 = gt.count_alleles(subpop=subpops[1]) # calculate allele counts for the second \"subpopulation\"\n",
    "num, den = allel.hudson_fst(gt_ac1, gt_ac2) # calculate the numerator and denominator for FST for each SNP\n",
    "fst = np.sum(num) / np.sum(den) # calculate average FST by summing over all SNPs\n",
    "fst"
   ]
  },
  {
   "cell_type": "markdown",
   "metadata": {},
   "source": [
    "**QUESTION 8:** What is the genome-wide average $F_{ST}$ value for your data? Why is it so low? "
   ]
  },
  {
   "cell_type": "markdown",
   "metadata": {},
   "source": [
    "Recall that we loaded our `vcf` files as an object called `s`. Among its attributes is a list of samples—let's display the first 5 sample names as an array:"
   ]
  },
  {
   "cell_type": "code",
   "execution_count": 86,
   "metadata": {},
   "outputs": [
    {
     "data": {
      "text/plain": [
       "array(['EPAMB001.filter.sorted.dup', 'EPAMB002.filter.sorted.dup',\n",
       "       'EPAMB006.filter.sorted.dup', 'EPAMB007.filter.sorted.dup',\n",
       "       'EPAMB008.filter.sorted.dup'], dtype=object)"
      ]
     },
     "execution_count": 86,
     "metadata": {},
     "output_type": "execute_result"
    }
   ],
   "source": [
    "s['samples'][0:5]"
   ]
  },
  {
   "cell_type": "markdown",
   "metadata": {},
   "source": [
    "By inspecting this file and comparing it to background information, we can theoretically assign individuals to actual subpopulations by their index. If possible, modify the following code to do so, calculating $F_{ST}$ between two of separate populations in your study. (If there are no lists of sample IDs / localities available, you may select another random subset.)"
   ]
  },
  {
   "cell_type": "code",
   "execution_count": 87,
   "metadata": {},
   "outputs": [
    {
     "data": {
      "text/plain": [
       "0.01355434755754058"
      ]
     },
     "execution_count": 87,
     "metadata": {},
     "output_type": "execute_result"
    }
   ],
   "source": [
    "subpops2 = [[0,1,2,3,4],[90,91,92,93,94]] # this would assign individuals 0-4 and 90-94 to two different subpopulations; edit as needed\n",
    "gt_ac1_v2 = gt.count_alleles(subpop=subpops2[0]) \n",
    "gt_ac2_v2 = gt.count_alleles(subpop=subpops2[1]) \n",
    "num, den = allel.hudson_fst(gt_ac1_v2, gt_ac2_v2) \n",
    "fst = np.sum(num) / np.sum(den) \n",
    "fst"
   ]
  },
  {
   "cell_type": "markdown",
   "metadata": {},
   "source": [
    "**QUESTION 9:** Is this $F_{ST}$ value higher or lower than your answer to **QUESTION 8**?"
   ]
  },
  {
   "cell_type": "markdown",
   "metadata": {},
   "source": [
    "Let's also calculate *per variant* $F_{ST}$—this way, we can see whether certain SNPs / loci are outliers (and thus potentially under selection). T"
   ]
  },
  {
   "cell_type": "code",
   "execution_count": 88,
   "metadata": {},
   "outputs": [],
   "source": [
    "np.seterr(divide='ignore', invalid='ignore') # allow division by zero\n",
    "fst = num / den \n",
    "fst = fst[~np.isnan(fst)] # drop nan values"
   ]
  },
  {
   "cell_type": "markdown",
   "metadata": {},
   "source": [
    "As with our LD values, we can plot a histogram of per-SNP $F_{ST}$: "
   ]
  },
  {
   "cell_type": "code",
   "execution_count": 89,
   "metadata": {},
   "outputs": [
    {
     "data": {
      "image/png": "[encoded data removed]",
      "text/plain": [
       "<Figure size 640x480 with 1 Axes>"
      ]
     },
     "metadata": {},
     "output_type": "display_data"
    }
   ],
   "source": [
    "plt.hist(fst, bins='auto')\n",
    "plt.title(\"Histogram of per-SNP $F_{ST}$ values\")\n",
    "plt.show()"
   ]
  },
  {
   "cell_type": "markdown",
   "metadata": {},
   "source": [
    "**QUESTION 10:** What is the maximum $F_{ST}$ value in your dataset? Be precise (i.e., use a function and don't just eyeball the plot). For an extra challenge, determine its position in your dataset."
   ]
  },
  {
   "cell_type": "markdown",
   "metadata": {},
   "source": [
    "## Principal Component Analysis"
   ]
  },
  {
   "cell_type": "markdown",
   "metadata": {},
   "source": [
    "To conclude, we'll perform Principal Component Analysis (PCA) on our data. Though we did not explicitly cover PCA in class, it is a ubiquitous approach to extracting patterns from highly multivariate datsets (like genotypes from thousands of SNPs and hundreds of samples) that involves placing samples on new, \"synthetic\" axes that explain the majority of variation in the data. A brief introduction to [PCA is here](https://en.wikipedia.org/wiki/Principal_component_analysis); arguably its most famous use in population genetics is [this 2008 paper](https://www.nature.com/articles/nature07331) in *Nature* by John Novembre and colleagues. PCA is most useful when we know the identity of each plotted sample, but even without going through the necessary steps to do so with our own data, the patterns it reveals can be informative. \n",
    "\n",
    "`scikit-allel` has a built-in PCA function, which is straightforward to implement once we are sure our data are complete (i.e., have no missing values). To do so, we'll start by counting alleles as before:"
   ]
  },
  {
   "cell_type": "code",
   "execution_count": 92,
   "metadata": {},
   "outputs": [
    {
     "data": {
      "text/html": [
       "<div class=\"allel allel-DisplayAs2D\"><span>&lt;AlleleCountsArray shape=(4596, 2) dtype=int32&gt;</span><table><thead><tr><th></th><th style=\"text-align: center\">0</th><th style=\"text-align: center\">1</th></tr></thead><tbody><tr><th style=\"text-align: center; background-color: white; border-right: 1px solid black; \">0</th><td style=\"text-align: center\">204</td><td style=\"text-align: center\"> 12</td></tr><tr><th style=\"text-align: center; background-color: white; border-right: 1px solid black; \">1</th><td style=\"text-align: center\">202</td><td style=\"text-align: center\">  4</td></tr><tr><th style=\"text-align: center; background-color: white; border-right: 1px solid black; \">2</th><td style=\"text-align: center\">186</td><td style=\"text-align: center\"> 18</td></tr><tr><th style=\"text-align: center; background-color: white; border-right: 1px solid black; \">...</th><td style=\"text-align: center\" colspan=\"3\">...</td></tr><tr><th style=\"text-align: center; background-color: white; border-right: 1px solid black; \">4593</th><td style=\"text-align: center\">199</td><td style=\"text-align: center\"> 19</td></tr><tr><th style=\"text-align: center; background-color: white; border-right: 1px solid black; \">4594</th><td style=\"text-align: center\">201</td><td style=\"text-align: center\"> 15</td></tr><tr><th style=\"text-align: center; background-color: white; border-right: 1px solid black; \">4595</th><td style=\"text-align: center\">140</td><td style=\"text-align: center\"> 78</td></tr></tbody></table></div>"
      ],
      "text/plain": [
       "<AlleleCountsArray shape=(4596, 2) dtype=int32>\n",
       "204  12\n",
       "202   4\n",
       "186  18\n",
       "...\n",
       "199  19\n",
       "201  15\n",
       "140  78"
      ]
     },
     "execution_count": 92,
     "metadata": {},
     "output_type": "execute_result"
    }
   ],
   "source": [
    "ac_sub = gt.count_alleles() # count alleles\n",
    "ac_sub"
   ]
  },
  {
   "cell_type": "markdown",
   "metadata": {},
   "source": [
    "Because some of the datasets include invariant sites, which will cause problems with PCA, we need to drop them from the object. To do so, we will combine `Numpy's` `np.nonzero` function with the `is_variant` method of `allel`'s genotype datastructures. (The \"0\" below makes sure we end up with a single array; don't worry about it.)"
   ]
  },
  {
   "cell_type": "code",
   "execution_count": 103,
   "metadata": {},
   "outputs": [],
   "source": [
    "indices = np.nonzero(ac_sub.is_variant())[0]"
   ]
  },
  {
   "cell_type": "markdown",
   "metadata": {},
   "source": [
    "Once we have these values, we can use the `take` method of genotype datastructures to subset them:"
   ]
  },
  {
   "cell_type": "code",
   "execution_count": 104,
   "metadata": {},
   "outputs": [],
   "source": [
    "indices = np.nonzero(ac_sub.is_variant())[0] # identify only variant sites\n",
    "genotypes_pca = gt.take(indices, axis=0) # subset genotypes to variants"
   ]
  },
  {
   "cell_type": "markdown",
   "metadata": {},
   "source": [
    "We can then check to see whether any sites were dropped by comparing the dimensions of data before and after filtering:"
   ]
  },
  {
   "cell_type": "code",
   "execution_count": 105,
   "metadata": {},
   "outputs": [
    {
     "data": {
      "text/plain": [
       "1"
      ]
     },
     "execution_count": 105,
     "metadata": {},
     "output_type": "execute_result"
    }
   ],
   "source": [
    "before = len(gt)\n",
    "after = len(genotypes_pca)\n",
    "SNPs_dropped = before - after\n",
    "SNPs_dropped"
   ]
  },
  {
   "cell_type": "markdown",
   "metadata": {},
   "source": [
    "(Depending on your dataset, this value may be zero.)"
   ]
  },
  {
   "cell_type": "markdown",
   "metadata": {},
   "source": [
    "Our last data preparation step is to transform our data to an array counts of *alternate* alleles—i.e., alleles that are different than the reference sequence reads were aligned to during sequence assembly:"
   ]
  },
  {
   "cell_type": "code",
   "execution_count": 114,
   "metadata": {},
   "outputs": [
    {
     "data": {
      "text/plain": [
       "array([[0, 0, 0, ..., 1, 0, 0],\n",
       "       [0, 0, 0, ..., 0, 0, 0],\n",
       "       [0, 0, 0, ..., 1, 0, 0],\n",
       "       ...,\n",
       "       [0, 0, 0, ..., 0, 0, 0],\n",
       "       [0, 0, 2, ..., 0, 0, 0],\n",
       "       [0, 0, 0, ..., 0, 0, 1]], dtype=int8)"
      ]
     },
     "execution_count": 114,
     "metadata": {},
     "output_type": "execute_result"
    }
   ],
   "source": [
    "gn = genotypes_pca.to_n_alt()\n",
    "gn"
   ]
  },
  {
   "cell_type": "markdown",
   "metadata": {},
   "source": [
    "Now it's time to run PCA itself. Note that we are saving informaiton on the model used to run it in the second variable."
   ]
  },
  {
   "cell_type": "code",
   "execution_count": 115,
   "metadata": {},
   "outputs": [],
   "source": [
    "coords, model = allel.pca(gn) # run pca"
   ]
  },
  {
   "cell_type": "code",
   "execution_count": 116,
   "metadata": {},
   "outputs": [
    {
     "data": {
      "image/png": "[encoded data removed]",
      "text/plain": [
       "<Figure size 640x480 with 1 Axes>"
      ]
     },
     "metadata": {},
     "output_type": "display_data"
    }
   ],
   "source": [
    "plt.scatter(coords[:, 0], # position on the first principal component of the observations\n",
    "            coords[:, 1], alpha=0.7);"
   ]
  },
  {
   "cell_type": "markdown",
   "metadata": {},
   "source": [
    "**QUESTION 11:** Interpret this PCA. Do you see distinct clusters, suggesting groups of samples that are closely related to each other, or do you see largely continuous variation? What biological processes relevant to your study taxon might help explain these patterns? Do your results match conclusions in the paper? "
   ]
  },
  {
   "cell_type": "markdown",
   "metadata": {},
   "source": [
    "That's the end of your brief tour of `scikit-allel`! We have, of course, only scratched the surface of what you can do with sequence data in Python. If you are motivated, feel free to add new code chunks below and perform an addititional analysis or data visualization on your dataset using any resource you wish for help. If your work is successful and you document it with a screenshot or by copy / pasting code and output, I'll give you extra credit (**QUESTION 12**)!"
   ]
  },
  {
   "cell_type": "code",
   "execution_count": null,
   "metadata": {},
   "outputs": [],
   "source": []
  }
 ],
 "metadata": {
  "kernelspec": {
   "display_name": "Python 3 (ipykernel)",
   "language": "python",
   "name": "python3"
  },
  "language_info": {
   "codemirror_mode": {
    "name": "ipython",
    "version": 3
   },
   "file_extension": ".py",
   "mimetype": "text/x-python",
   "name": "python",
   "nbconvert_exporter": "python",
   "pygments_lexer": "ipython3",
   "version": "3.12.5"
  }
 },
 "nbformat": 4,
 "nbformat_minor": 4
}
