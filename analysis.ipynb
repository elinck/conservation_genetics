{
 "cells": [
  {
   "cell_type": "markdown",
   "metadata": {},
   "source": [
    "## BIOB480/BIOE548 Final Project: Genomic analysis with `scikit-allel`\n",
    "\n",
    "The following Jupyter Notebook provides Python code to perform simple analyses of genome-wide single nucleotide polymorphism (SNP) data using the powerful `scikit-allel` package. As part of the your final project in Conservation Genetics you will run each code chunk below, calculating a number of metrics we have discussed in class for the empirical dataset you selected, and recording answers to the bolded questions interspersed throughout. All data have been uploaded as [gzipped](https://en.wikipedia.org/wiki/Gzip) `.vcf` (\"Variant Call Format\") files in the `data/` directory. To begin, you'll first need to copy this notebook and save an editable version to your own student directory. I also recommend spend some time reviewing `scikit-allel`'s [documentation](https://scikit-allel.readthedocs.io/en/stable/#), paying particular attention to what functions look like and how they operate. "
   ]
  },
  {
   "cell_type": "markdown",
   "metadata": {},
   "source": [
    "**QUESTION 1:** Pick a function from the [\"Statistics and plotting\"](https://scikit-allel.readthedocs.io/en/stable/stats.html) section of `scikit-allel`'s docs. What are its parameters, and what do they mean?"
   ]
  },
  {
   "cell_type": "markdown",
   "metadata": {},
   "source": [
    "Next, you should get familiar with the Jupyter Notebook environment. Find the buttons to run a chunk of code, change the format of a particular chunk (from Code—i.e., Python 3—to Markdown or Raw, which are used for writing), and save your work. Look also at the directory browser on the left-hand side of the notebook, and orient yourself to its structure. "
   ]
  },
  {
   "cell_type": "markdown",
   "metadata": {},
   "source": [
    "The last think we'll do before starting is import `scikit-allel`, along with the standard Python libraries `numpy`, `pandas`, and `os`:"
   ]
  },
  {
   "cell_type": "code",
   "execution_count": 1,
   "metadata": {},
   "outputs": [],
   "source": [
    "import os\n",
    "import allel\n",
    "import numpy as np\n",
    "import pandas as pd\n",
    "import matplotlib.pyplot as plt\n",
    "np.set_printoptions(legacy=\"1.25\")"
   ]
  },
  {
   "cell_type": "markdown",
   "metadata": {},
   "source": [
    "## Introduction to Python"
   ]
  },
  {
   "cell_type": "markdown",
   "metadata": {},
   "source": [
    "Though learning Python in any meaningful sense is far beyond what we can tackle in the last week of the semester, it will be useful to examine a few aspects of the language before diving into `scikit-allel`. (If you are motivated and have the time, I highly recommend [the Software Carpentries \"Programming with Python\" lesson](https://swcarpentry.github.io/python-novice-inflammation/#overview).)\n",
    "\n",
    "We can start with some simple calculations, as any Python *interpreter* (i.e., an interface to enter Python code, like a Jupyter Notebook chunk) can mathematical operations:"
   ]
  },
  {
   "cell_type": "code",
   "execution_count": 2,
   "metadata": {},
   "outputs": [
    {
     "data": {
      "text/plain": [
       "0.04000000000000001"
      ]
     },
     "execution_count": 2,
     "metadata": {},
     "output_type": "execute_result"
    }
   ],
   "source": [
    "0.2**2 # the double asterix operator exponentiates the following term"
   ]
  },
  {
   "cell_type": "markdown",
   "metadata": {},
   "source": [
    "We can also assign numbers to variables using the \"=\" operator:"
   ]
  },
  {
   "cell_type": "code",
   "execution_count": 3,
   "metadata": {},
   "outputs": [
    {
     "data": {
      "text/plain": [
       "1.0000000000000002"
      ]
     },
     "execution_count": 3,
     "metadata": {},
     "output_type": "execute_result"
    }
   ],
   "source": [
    "p = 0.2\n",
    "q = 0.8\n",
    "p**2 + 2*p*q + q**2"
   ]
  },
  {
   "cell_type": "markdown",
   "metadata": {},
   "source": [
    "Unlike other languages you might be familiar with (e.g., `R`), Python allows you to assign multiple values to variables using a comma:"
   ]
  },
  {
   "cell_type": "code",
   "execution_count": 4,
   "metadata": {},
   "outputs": [
    {
     "data": {
      "text/plain": [
       "1.0"
      ]
     },
     "execution_count": 4,
     "metadata": {},
     "output_type": "execute_result"
    }
   ],
   "source": [
    "p, q = 0.4, 0.6\n",
    "p**2 + 2*p*q + q**2"
   ]
  },
  {
   "cell_type": "markdown",
   "metadata": {},
   "source": [
    "Python also includes a set of built-in functions (i.e., functions you don't need to load via an external library). Useful ones to know include `print()`, `range()`, `list()`, `len()` and `type()`:"
   ]
  },
  {
   "cell_type": "code",
   "execution_count": 5,
   "metadata": {},
   "outputs": [
    {
     "name": "stdout",
     "output_type": "stream",
     "text": [
      "The frequency of allele 1 is now 0.5\n"
     ]
    }
   ],
   "source": [
    "p = 0.5\n",
    "print('The frequency of allele 1 is now', p)"
   ]
  },
  {
   "cell_type": "code",
   "execution_count": 6,
   "metadata": {},
   "outputs": [
    {
     "data": {
      "text/plain": [
       "[0, 1, 2, 3, 4, 5, 6, 7, 8, 9]"
      ]
     },
     "execution_count": 6,
     "metadata": {},
     "output_type": "execute_result"
    }
   ],
   "source": [
    "nums = list(range(0,10,1))\n",
    "nums"
   ]
  },
  {
   "cell_type": "code",
   "execution_count": 7,
   "metadata": {},
   "outputs": [
    {
     "data": {
      "text/plain": [
       "10"
      ]
     },
     "execution_count": 7,
     "metadata": {},
     "output_type": "execute_result"
    }
   ],
   "source": [
    "len(nums)"
   ]
  },
  {
   "cell_type": "markdown",
   "metadata": {},
   "source": [
    "Note that the object `nums` has a length of 10. This is because it is somethign known as an *list*, a data structure that can hold more than one variable at a time. We can confirm this using the `type()` function:"
   ]
  },
  {
   "cell_type": "code",
   "execution_count": 8,
   "metadata": {},
   "outputs": [
    {
     "data": {
      "text/plain": [
       "list"
      ]
     },
     "execution_count": 8,
     "metadata": {},
     "output_type": "execute_result"
    }
   ],
   "source": [
    "type(nums)"
   ]
  },
  {
   "cell_type": "markdown",
   "metadata": {},
   "source": [
    "We can also use `type()` to determine what kind of numerical data is encoded by an object. Typically, this will be either a `float` (i.e., a floating-point number, with a decimal point) or an `integer` (a number without a decimal point). We can change from a `float` to an `integer` and back using the functions `int()` and `float()`:"
   ]
  },
  {
   "cell_type": "code",
   "execution_count": 9,
   "metadata": {},
   "outputs": [
    {
     "data": {
      "text/plain": [
       "float"
      ]
     },
     "execution_count": 9,
     "metadata": {},
     "output_type": "execute_result"
    }
   ],
   "source": [
    "type(p)"
   ]
  },
  {
   "cell_type": "code",
   "execution_count": 10,
   "metadata": {},
   "outputs": [
    {
     "data": {
      "text/plain": [
       "int"
      ]
     },
     "execution_count": 10,
     "metadata": {},
     "output_type": "execute_result"
    }
   ],
   "source": [
    "p = int(p)\n",
    "type(p)"
   ]
  },
  {
   "cell_type": "code",
   "execution_count": 11,
   "metadata": {},
   "outputs": [
    {
     "data": {
      "text/plain": [
       "float"
      ]
     },
     "execution_count": 11,
     "metadata": {},
     "output_type": "execute_result"
    }
   ],
   "source": [
    "p = float(p)\n",
    "type(p)"
   ]
  },
  {
   "cell_type": "markdown",
   "metadata": {},
   "source": [
    "Text can be represented by a type of object known as a `String`:"
   ]
  },
  {
   "cell_type": "code",
   "execution_count": 12,
   "metadata": {},
   "outputs": [],
   "source": [
    "text = \"Conservation Genetics\""
   ]
  },
  {
   "cell_type": "code",
   "execution_count": 13,
   "metadata": {},
   "outputs": [
    {
     "name": "stdout",
     "output_type": "stream",
     "text": [
      "Conservation Genetics\n"
     ]
    }
   ],
   "source": [
    "print(text)"
   ]
  },
  {
   "cell_type": "code",
   "execution_count": 14,
   "metadata": {},
   "outputs": [
    {
     "data": {
      "text/plain": [
       "str"
      ]
     },
     "execution_count": 14,
     "metadata": {},
     "output_type": "execute_result"
    }
   ],
   "source": [
    "type(text)"
   ]
  },
  {
   "cell_type": "markdown",
   "metadata": {},
   "source": [
    "Specialized libraries (equivalent to packages in `R`) include their own set of functions, which can be viewed by pressing tab after typing the library name and a period. We imported `numpy` with the nickname `np`. Here is one of its many functions, which takes the average of a list of numbers. "
   ]
  },
  {
   "cell_type": "code",
   "execution_count": 15,
   "metadata": {},
   "outputs": [
    {
     "data": {
      "text/plain": [
       "4.5"
      ]
     },
     "execution_count": 15,
     "metadata": {},
     "output_type": "execute_result"
    }
   ],
   "source": [
    "np.average(nums)"
   ]
  },
  {
   "cell_type": "markdown",
   "metadata": {},
   "source": [
    "**QUESTION 2:** Choose another `Numpy` funciton and explain its purpose. (You may use other sources.)"
   ]
  },
  {
   "cell_type": "markdown",
   "metadata": {},
   "source": [
    "The last thing we'll introduce for now is the `help()` function. Its output is a little cryptic, but once you get oriented, can be useful for debugging:"
   ]
  },
  {
   "cell_type": "code",
   "execution_count": 16,
   "metadata": {},
   "outputs": [
    {
     "name": "stdout",
     "output_type": "stream",
     "text": [
      "Help on _ArrayFunctionDispatcher in module numpy:\n",
      "\n",
      "average(a, axis=None, weights=None, returned=False, *, keepdims=<no value>)\n",
      "    Compute the weighted average along the specified axis.\n",
      "\n",
      "    Parameters\n",
      "    ----------\n",
      "    a : array_like\n",
      "        Array containing data to be averaged. If `a` is not an array, a\n",
      "        conversion is attempted.\n",
      "    axis : None or int or tuple of ints, optional\n",
      "        Axis or axes along which to average `a`.  The default,\n",
      "        `axis=None`, will average over all of the elements of the input array.\n",
      "        If axis is negative it counts from the last to the first axis.\n",
      "\n",
      "        .. versionadded:: 1.7.0\n",
      "\n",
      "        If axis is a tuple of ints, averaging is performed on all of the axes\n",
      "        specified in the tuple instead of a single axis or all the axes as\n",
      "        before.\n",
      "    weights : array_like, optional\n",
      "        An array of weights associated with the values in `a`. Each value in\n",
      "        `a` contributes to the average according to its associated weight.\n",
      "        The array of weights must be the same shape as `a` if no axis is\n",
      "        specified, otherwise the weights must have dimensions and shape\n",
      "        consistent with `a` along the specified axis.\n",
      "        If `weights=None`, then all data in `a` are assumed to have a\n",
      "        weight equal to one.\n",
      "        The calculation is::\n",
      "\n",
      "            avg = sum(a * weights) / sum(weights)\n",
      "\n",
      "        where the sum is over all included elements.\n",
      "        The only constraint on the values of `weights` is that `sum(weights)`\n",
      "        must not be 0.\n",
      "    returned : bool, optional\n",
      "        Default is `False`. If `True`, the tuple (`average`, `sum_of_weights`)\n",
      "        is returned, otherwise only the average is returned.\n",
      "        If `weights=None`, `sum_of_weights` is equivalent to the number of\n",
      "        elements over which the average is taken.\n",
      "    keepdims : bool, optional\n",
      "        If this is set to True, the axes which are reduced are left\n",
      "        in the result as dimensions with size one. With this option,\n",
      "        the result will broadcast correctly against the original `a`.\n",
      "        *Note:* `keepdims` will not work with instances of `numpy.matrix`\n",
      "        or other classes whose methods do not support `keepdims`.\n",
      "\n",
      "        .. versionadded:: 1.23.0\n",
      "\n",
      "    Returns\n",
      "    -------\n",
      "    retval, [sum_of_weights] : array_type or double\n",
      "        Return the average along the specified axis. When `returned` is `True`,\n",
      "        return a tuple with the average as the first element and the sum\n",
      "        of the weights as the second element. `sum_of_weights` is of the\n",
      "        same type as `retval`. The result dtype follows a general pattern.\n",
      "        If `weights` is None, the result dtype will be that of `a` , or ``float64``\n",
      "        if `a` is integral. Otherwise, if `weights` is not None and `a` is non-\n",
      "        integral, the result type will be the type of lowest precision capable of\n",
      "        representing values of both `a` and `weights`. If `a` happens to be\n",
      "        integral, the previous rules still applies but the result dtype will\n",
      "        at least be ``float64``.\n",
      "\n",
      "    Raises\n",
      "    ------\n",
      "    ZeroDivisionError\n",
      "        When all weights along axis are zero. See `numpy.ma.average` for a\n",
      "        version robust to this type of error.\n",
      "    TypeError\n",
      "        When `weights` does not have the same shape as `a`, and `axis=None`.\n",
      "    ValueError\n",
      "        When `weights` does not have dimensions and shape consistent with `a`\n",
      "        along specified `axis`.\n",
      "\n",
      "    See Also\n",
      "    --------\n",
      "    mean\n",
      "\n",
      "    ma.average : average for masked arrays -- useful if your data contains\n",
      "                 \"missing\" values\n",
      "    numpy.result_type : Returns the type that results from applying the\n",
      "                        numpy type promotion rules to the arguments.\n",
      "\n",
      "    Examples\n",
      "    --------\n",
      "    >>> data = np.arange(1, 5)\n",
      "    >>> data\n",
      "    array([1, 2, 3, 4])\n",
      "    >>> np.average(data)\n",
      "    2.5\n",
      "    >>> np.average(np.arange(1, 11), weights=np.arange(10, 0, -1))\n",
      "    4.0\n",
      "\n",
      "    >>> data = np.arange(6).reshape((3, 2))\n",
      "    >>> data\n",
      "    array([[0, 1],\n",
      "           [2, 3],\n",
      "           [4, 5]])\n",
      "    >>> np.average(data, axis=1, weights=[1./4, 3./4])\n",
      "    array([0.75, 2.75, 4.75])\n",
      "    >>> np.average(data, weights=[1./4, 3./4])\n",
      "    Traceback (most recent call last):\n",
      "        ...\n",
      "    TypeError: Axis must be specified when shapes of a and weights differ.\n",
      "\n",
      "    With ``keepdims=True``, the following result has shape (3, 1).\n",
      "\n",
      "    >>> np.average(data, axis=1, keepdims=True)\n",
      "    array([[0.5],\n",
      "           [2.5],\n",
      "           [4.5]])\n",
      "\n",
      "    >>> data = np.arange(8).reshape((2, 2, 2))\n",
      "    >>> data\n",
      "    array([[[0, 1],\n",
      "            [2, 3]],\n",
      "           [[4, 5],\n",
      "            [6, 7]]])\n",
      "    >>> np.average(data, axis=(0, 1), weights=[[1./4, 3./4], [1., 1./2]])\n",
      "    array([3.4, 4.4])\n",
      "    >>> np.average(data, axis=0, weights=[[1./4, 3./4], [1., 1./2]])\n",
      "    Traceback (most recent call last):\n",
      "        ...\n",
      "    ValueError: Shape of weights must be consistent\n",
      "    with shape of a along specified axis.\n",
      "\n"
     ]
    }
   ],
   "source": [
    "help(np.average)"
   ]
  },
  {
   "cell_type": "markdown",
   "metadata": {},
   "source": [
    "## Basic data structures and functions\n",
    "\n",
    "Before we use empirical data, let's get a feel for scikit-allel's GenotypeArray objects using a simple example. Here, we set up a GenotypeArray with two individuals (as columns) and three loci (as rows). Each integer in this array refers to an allele, where 0 indicates the reference allele, 1 the first alternate allele, 2 the second, etc. Any negative integer indicates missing data. Notice that we are again using `.` after the package name (`allel`). This time, however, we are creating something called a class, which assigns a particular set of variables and associated functions (technically \"methods\") to the object at hand:"
   ]
  },
  {
   "cell_type": "code",
   "execution_count": 17,
   "metadata": {},
   "outputs": [],
   "source": [
    "g = allel.GenotypeArray([[[0, 0], [0, 0]],\n",
    "                         [[0, 0], [0, 1]],\n",
    "                         [[0, 0], [1, 1]],\n",
    "                         [[0, 1], [1, 1]],\n",
    "                         [[1, 1], [1, 1]],\n",
    "                         [[0, 0], [1, 2]],\n",
    "                         [[0, 1], [1, 2]],\n",
    "                         [[0, 1], [-1, -1]],\n",
    "                         [[-1, -1], [-1, -1]]])"
   ]
  },
  {
   "cell_type": "markdown",
   "metadata": {},
   "source": [
    "This is what that object looks like: "
   ]
  },
  {
   "cell_type": "code",
   "execution_count": 18,
   "metadata": {},
   "outputs": [
    {
     "data": {
      "text/html": [
       "<div class=\"allel allel-DisplayAs2D\"><span>&lt;GenotypeArray shape=(9, 2, 2) dtype=int64&gt;</span><table><thead><tr><th></th><th style=\"text-align: center\">0</th><th style=\"text-align: center\">1</th></tr></thead><tbody><tr><th style=\"text-align: center; background-color: white; border-right: 1px solid black; \">0</th><td style=\"text-align: center\">0/0</td><td style=\"text-align: center\">0/0</td></tr><tr><th style=\"text-align: center; background-color: white; border-right: 1px solid black; \">1</th><td style=\"text-align: center\">0/0</td><td style=\"text-align: center\">0/1</td></tr><tr><th style=\"text-align: center; background-color: white; border-right: 1px solid black; \">2</th><td style=\"text-align: center\">0/0</td><td style=\"text-align: center\">1/1</td></tr><tr><th style=\"text-align: center; background-color: white; border-right: 1px solid black; \">...</th><td style=\"text-align: center\" colspan=\"3\">...</td></tr><tr><th style=\"text-align: center; background-color: white; border-right: 1px solid black; \">6</th><td style=\"text-align: center\">0/1</td><td style=\"text-align: center\">1/2</td></tr><tr><th style=\"text-align: center; background-color: white; border-right: 1px solid black; \">7</th><td style=\"text-align: center\">0/1</td><td style=\"text-align: center\">./.</td></tr><tr><th style=\"text-align: center; background-color: white; border-right: 1px solid black; \">8</th><td style=\"text-align: center\">./.</td><td style=\"text-align: center\">./.</td></tr></tbody></table></div>"
      ],
      "text/plain": [
       "<GenotypeArray shape=(9, 2, 2) dtype=int64>\n",
       "0/0 0/0\n",
       "0/0 0/1\n",
       "0/0 1/1\n",
       "...\n",
       "0/1 1/2\n",
       "0/1 ./.\n",
       "./. ./."
      ]
     },
     "execution_count": 18,
     "metadata": {},
     "output_type": "execute_result"
    }
   ],
   "source": [
    "g"
   ]
  },
  {
   "cell_type": "markdown",
   "metadata": {},
   "source": [
    "Our GenotypeArray object \"g\" has attributes reflecting its dimensions, its number of variants, ploidy and sample size. For example: "
   ]
  },
  {
   "cell_type": "code",
   "execution_count": 19,
   "metadata": {},
   "outputs": [
    {
     "data": {
      "text/plain": [
       "3"
      ]
     },
     "execution_count": 19,
     "metadata": {},
     "output_type": "execute_result"
    }
   ],
   "source": [
    "g.ndim"
   ]
  },
  {
   "cell_type": "code",
   "execution_count": 20,
   "metadata": {},
   "outputs": [
    {
     "data": {
      "text/plain": [
       "(9, 2, 2)"
      ]
     },
     "execution_count": 20,
     "metadata": {},
     "output_type": "execute_result"
    }
   ],
   "source": [
    "g.shape"
   ]
  },
  {
   "cell_type": "code",
   "execution_count": 21,
   "metadata": {},
   "outputs": [
    {
     "data": {
      "text/plain": [
       "9"
      ]
     },
     "execution_count": 21,
     "metadata": {},
     "output_type": "execute_result"
    }
   ],
   "source": [
    "g.n_variants"
   ]
  },
  {
   "cell_type": "code",
   "execution_count": 22,
   "metadata": {},
   "outputs": [
    {
     "data": {
      "text/plain": [
       "2"
      ]
     },
     "execution_count": 22,
     "metadata": {},
     "output_type": "execute_result"
    }
   ],
   "source": [
    "g.ploidy"
   ]
  },
  {
   "cell_type": "code",
   "execution_count": 23,
   "metadata": {},
   "outputs": [
    {
     "data": {
      "text/plain": [
       "2"
      ]
     },
     "execution_count": 23,
     "metadata": {},
     "output_type": "execute_result"
    }
   ],
   "source": [
    "g.n_samples"
   ]
  },
  {
   "cell_type": "markdown",
   "metadata": {},
   "source": [
    "With this object, we can begin to get a feel for scikit-allel's functions for describing diversity and divergence. For example, we can calculate observed heterozygosity, generating an array for each locus:"
   ]
  },
  {
   "cell_type": "code",
   "execution_count": 24,
   "metadata": {},
   "outputs": [],
   "source": [
    "het_obs = allel.heterozygosity_observed(g)"
   ]
  },
  {
   "cell_type": "markdown",
   "metadata": {},
   "source": [
    "Using the `namean()` function in `numpy` to ignore NA values, we can calculate the genome-wide average:"
   ]
  },
  {
   "cell_type": "code",
   "execution_count": 25,
   "metadata": {},
   "outputs": [
    {
     "data": {
      "text/plain": [
       "0.4375"
      ]
     },
     "execution_count": 25,
     "metadata": {},
     "output_type": "execute_result"
    }
   ],
   "source": [
    "np.nanmean(het_obs)"
   ]
  },
  {
   "cell_type": "markdown",
   "metadata": {},
   "source": [
    "A natural next step is to see whether these freququencies are a deviation from Hardy-Weinberg Equilibrium. To do so, we first calculate allele frequencies for each locus, using the `count_alleles().to_frequencies()` function. (Note that this is an example of of an object having a particular method—in this case, a method unique to the `GenotypeArray()` class.)"
   ]
  },
  {
   "cell_type": "code",
   "execution_count": 26,
   "metadata": {},
   "outputs": [],
   "source": [
    "af = g.count_alleles().to_frequencies()"
   ]
  },
  {
   "cell_type": "code",
   "execution_count": 27,
   "metadata": {},
   "outputs": [
    {
     "data": {
      "text/plain": [
       "array([[1.  , 0.  , 0.  ],\n",
       "       [0.75, 0.25, 0.  ],\n",
       "       [0.5 , 0.5 , 0.  ],\n",
       "       [0.25, 0.75, 0.  ],\n",
       "       [0.  , 1.  , 0.  ],\n",
       "       [0.5 , 0.25, 0.25],\n",
       "       [0.25, 0.5 , 0.25],\n",
       "       [0.5 , 0.5 , 0.  ],\n",
       "       [ nan,  nan,  nan]])"
      ]
     },
     "execution_count": 27,
     "metadata": {},
     "output_type": "execute_result"
    }
   ],
   "source": [
    "af"
   ]
  },
  {
   "cell_type": "markdown",
   "metadata": {},
   "source": [
    "In this array, each row is a locus, and the columns 0,1 and 2 refer to reference, 1st alternate, and 2nd alternate alleles. Next, we can use these data to calculate expected heterozygosity:"
   ]
  },
  {
   "cell_type": "code",
   "execution_count": 28,
   "metadata": {},
   "outputs": [
    {
     "data": {
      "text/plain": [
       "array([0.   , 0.375, 0.5  , 0.375, 0.   , 0.625, 0.625, 0.5  ,   nan])"
      ]
     },
     "execution_count": 28,
     "metadata": {},
     "output_type": "execute_result"
    }
   ],
   "source": [
    "allel.heterozygosity_expected(af, ploidy=2)"
   ]
  },
  {
   "cell_type": "markdown",
   "metadata": {},
   "source": [
    "Looks different to me! "
   ]
  },
  {
   "cell_type": "markdown",
   "metadata": {},
   "source": [
    "**QUESTION 3:** What is the length of object `af`?"
   ]
  },
  {
   "cell_type": "markdown",
   "metadata": {},
   "source": [
    "## Loading and examining variant data\n",
    "\n",
    "Next up, we're going to pivot to looking at empirical data: specifically, the SNP data associated with your project. These data are in Variant Call Format, and can be found as `*.vcf.gz` in the tutorial folder. \n",
    "\n",
    "To begin, we'll use scikit-allel to import the .vcf as a `numpy` array. Here, it's important to use the regex `'*'` wildcard, in order to extract all possible data from the file. (Note that you will need to replace `\"data/species.vcf.gz\"` with the path to your group's study taxon.)"
   ]
  },
  {
   "cell_type": "code",
   "execution_count": 29,
   "metadata": {},
   "outputs": [],
   "source": [
    "file = \"data/iris.vcf.gz\"\n",
    "s = allel.read_vcf(file, fields='*')"
   ]
  },
  {
   "cell_type": "markdown",
   "metadata": {},
   "source": [
    "The `numpy` array object `r` has a set of keys representing aspects of the .vcf file. We can list these with the `.keys()` function, sorting by name:"
   ]
  },
  {
   "cell_type": "code",
   "execution_count": 30,
   "metadata": {},
   "outputs": [
    {
     "data": {
      "text/plain": [
       "['calldata/AC',\n",
       " 'calldata/DP',\n",
       " 'calldata/GT',\n",
       " 'calldata/OC',\n",
       " 'calldata/RC',\n",
       " 'samples',\n",
       " 'variants/AC',\n",
       " 'variants/AF',\n",
       " 'variants/ALT',\n",
       " 'variants/CHROM',\n",
       " 'variants/DP',\n",
       " 'variants/FILTER_PASS',\n",
       " 'variants/ID',\n",
       " 'variants/NS',\n",
       " 'variants/OC',\n",
       " 'variants/POS',\n",
       " 'variants/QUAL',\n",
       " 'variants/RC',\n",
       " 'variants/REF',\n",
       " 'variants/VRT',\n",
       " 'variants/altlen',\n",
       " 'variants/is_snp',\n",
       " 'variants/numalt']"
      ]
     },
     "execution_count": 30,
     "metadata": {},
     "output_type": "execute_result"
    }
   ],
   "source": [
    "sorted(s.keys())"
   ]
  },
  {
   "cell_type": "markdown",
   "metadata": {},
   "source": [
    "Here, anything begining with \"callset\" is from the INFO field of the .vcf, while \"variants\" refers to data associated with each SNP (or site, if you have invariant alleles in your file). (Some of this information, e.g. depth, is redundant, depending on your SNP caller.) To examine any of these in greater detail, we can select the relevant index. For example, to look at the position of these SNPs (relative to the reference genome or sequence they were aligned to), we can select `variants/POS` key. Here, we use brackets with a `String` inside to select a column with a particular label:"
   ]
  },
  {
   "cell_type": "code",
   "execution_count": 31,
   "metadata": {},
   "outputs": [
    {
     "data": {
      "text/plain": [
       "array([ 14, 119,  34, ...,  49,  26,  31], dtype=int32)"
      ]
     },
     "execution_count": 31,
     "metadata": {},
     "output_type": "execute_result"
    }
   ],
   "source": [
    "s['variants/POS']"
   ]
  },
  {
   "cell_type": "markdown",
   "metadata": {},
   "source": [
    "Similarly, we can list all sample IDs, which in most cases will be filenames from one of the various bioinformatics processing steps used to generate the final `.vcf` file:"
   ]
  },
  {
   "cell_type": "code",
   "execution_count": 32,
   "metadata": {},
   "outputs": [
    {
     "data": {
      "text/plain": [
       "array(['MI1_Quad_1', 'MI1_Quad_10', 'MI1_Quad_2', 'MI1_Quad_3',\n",
       "       'MI1_Quad_4', 'MI1_Quad_5', 'MI1_Quad_6', 'MI1_Quad_7',\n",
       "       'MI1_Quad_8', 'MI1_Quad_9', 'MI2_1', 'MI2_2', 'MI2_3', 'MI2_4',\n",
       "       'MI2_5', 'MI2_6', 'MI2_8', 'MI2_Quad_9', 'MI3_1', 'MI3_2', 'MI3_3',\n",
       "       'MI4_East_West_1', 'MI4_Quad_1', 'MI4_Quad_2', 'MI4_Quad_3',\n",
       "       'MI4_Quad_4', 'MI4_Quad_5', 'MI4_Quad_6', 'MI5_1', 'MI5_2',\n",
       "       'MI5_3', 'MI5_4', 'MI5_5', 'MI5_6', 'MI5_7', 'MI6_2019_Quad_2',\n",
       "       'MI6_2019_Quad_8', 'MI6_2020_1', 'MI6_2020_10', 'MI6_2020_2',\n",
       "       'MI6_2020_3', 'MI6_2020_4', 'MI6_2020_5', 'MI6_2020_6',\n",
       "       'MI6_2020_7', 'MI6_2020_8', 'MI6_2020_9', 'MI6_HA_4_55_Quad_3',\n",
       "       'MI6_Quad_1', 'MI7_1', 'MI7_2', 'MI7_3', 'MI7_4', 'MI7_5', 'MI7_6',\n",
       "       'MI7_7', 'MI7_8', 'MI8_1', 'MI8_2', 'MI8_3', 'MI8_4',\n",
       "       'MI9_HA_4_55_1', 'MI9_HA_4_55_2', 'MI9_HA_4_55_3', 'MI10_1',\n",
       "       'MI10_2', 'MI10_3', 'MI10_4', 'MI10_5', 'MI11_HA_4_55',\n",
       "       'MI12_HA_10', 'MI12_HA_4_5', 'MI13_1', 'MI13_2', 'MI13_3',\n",
       "       'MI14_1', 'MI14_2', 'MI14_2020_1', 'MI14_2020_10', 'MI14_2020_11',\n",
       "       'MI14_2020_3', 'MI14_2020_5', 'MI14_2020_6', 'MI14_2020_7',\n",
       "       'MI14_2020_8', 'MI14_2020_9', 'MI15_1', 'MI15_10', 'MI15_2',\n",
       "       'MI15_3', 'MI15_4', 'MI15_6', 'MI15_7', 'MI15_9',\n",
       "       'MI16_North_HA_4_55', 'MI16_South_HA_13_65', 'MI16_West_HA_13_65',\n",
       "       'MI17_HA_12_66', 'MI17_HA_14_66', 'MI17_HA_15_2', 'MI17_HA_4_5',\n",
       "       'MI17_HA_4_55_valley_of_DLI', 'MI17_HA_4_5_Campground_1',\n",
       "       'MI17_HA_7_5_6_', 'MI17_HA_7_6', 'MI17_Recent_out_4_55',\n",
       "       'MI17_escanabe_river_quad7_HA4_6', 'MI18_10', 'MI18_2', 'MI18_3',\n",
       "       'MI18_4', 'MI18_6', 'MI18_8', 'MI18_9', 'MI18_Quad_1',\n",
       "       'MI18_Quad_5', 'MI18_Quad_7', 'MI19_Quad_1', 'MI19_Quad_10',\n",
       "       'MI19_Quad_2', 'MI19_Quad_3', 'MI19_Quad_4', 'MI19_Quad_5',\n",
       "       'MI19_Quad_6', 'MI19_Quad_7', 'MI19_Quad_8', 'MI19_Quad_9',\n",
       "       'MI20_2', 'MI20_3', 'MI20_4', 'MI21_1', 'MI21_2', 'MI21_3',\n",
       "       'MI21_4', 'MI21_5', 'MI21_6', 'MI21_7', 'WI_402', 'WI_403',\n",
       "       'WI_404', 'WI_405', 'WI_406', 'WI_407', 'WI_408', 'WI_409',\n",
       "       'WI_410', 'WI_411', 'WI_412', 'WI_413', 'WI_508', 'WI_509',\n",
       "       'WI_510', 'WI_511', 'WI_512', 'WI_514', 'WI_515', 'WI_516',\n",
       "       'WI_517', 'WI_518', 'WI_519', 'WI_520', 'MI22_10', 'MI22_11',\n",
       "       'MI22_12', 'MI22_13', 'MI22_14', 'MI22_15', 'MI22_8', 'MI22_9'],\n",
       "      dtype=object)"
      ]
     },
     "execution_count": 32,
     "metadata": {},
     "output_type": "execute_result"
    }
   ],
   "source": [
    "s['samples']"
   ]
  },
  {
   "cell_type": "markdown",
   "metadata": {},
   "source": [
    "Besides simply *looking* at these data, these keys can be used to filter SNPs based on various criteria. First, though, you may want to know how many SNPs you acutally have. We can evaluate this by taking the first entry from the `shape` attribute of the array (i.e., its length): "
   ]
  },
  {
   "cell_type": "code",
   "execution_count": 33,
   "metadata": {},
   "outputs": [
    {
     "data": {
      "text/plain": [
       "50134"
      ]
     },
     "execution_count": 33,
     "metadata": {},
     "output_type": "execute_result"
    }
   ],
   "source": [
    "s['calldata/GT'].shape[0]"
   ]
  },
  {
   "cell_type": "markdown",
   "metadata": {},
   "source": [
    "Next, let's take the actual genotype calls from the vcf-turned-numpy-array and turn it into the GenotypeArray object we're familiar with:"
   ]
  },
  {
   "cell_type": "code",
   "execution_count": 34,
   "metadata": {
    "scrolled": true
   },
   "outputs": [
    {
     "data": {
      "text/html": [
       "<div class=\"allel allel-DisplayAs2D\"><span>&lt;GenotypeArray shape=(50134, 169, 2) dtype=int8&gt;</span><table><thead><tr><th></th><th style=\"text-align: center\">0</th><th style=\"text-align: center\">1</th><th style=\"text-align: center\">2</th><th style=\"text-align: center\">3</th><th style=\"text-align: center\">4</th><th style=\"text-align: center\">...</th><th style=\"text-align: center\">164</th><th style=\"text-align: center\">165</th><th style=\"text-align: center\">166</th><th style=\"text-align: center\">167</th><th style=\"text-align: center\">168</th></tr></thead><tbody><tr><th style=\"text-align: center; background-color: white; border-right: 1px solid black; \">0</th><td style=\"text-align: center\">0/1</td><td style=\"text-align: center\">./.</td><td style=\"text-align: center\">0/0</td><td style=\"text-align: center\">./.</td><td style=\"text-align: center\">0/0</td><td style=\"text-align: center\">...</td><td style=\"text-align: center\">0/0</td><td style=\"text-align: center\">0/0</td><td style=\"text-align: center\">./.</td><td style=\"text-align: center\">0/0</td><td style=\"text-align: center\">./.</td></tr><tr><th style=\"text-align: center; background-color: white; border-right: 1px solid black; \">1</th><td style=\"text-align: center\">0/1</td><td style=\"text-align: center\">./.</td><td style=\"text-align: center\">0/0</td><td style=\"text-align: center\">0/0</td><td style=\"text-align: center\">0/0</td><td style=\"text-align: center\">...</td><td style=\"text-align: center\">0/0</td><td style=\"text-align: center\">0/0</td><td style=\"text-align: center\">0/0</td><td style=\"text-align: center\">./.</td><td style=\"text-align: center\">./.</td></tr><tr><th style=\"text-align: center; background-color: white; border-right: 1px solid black; \">2</th><td style=\"text-align: center\">0/1</td><td style=\"text-align: center\">0/1</td><td style=\"text-align: center\">0/0</td><td style=\"text-align: center\">0/1</td><td style=\"text-align: center\">./.</td><td style=\"text-align: center\">...</td><td style=\"text-align: center\">0/0</td><td style=\"text-align: center\">0/1</td><td style=\"text-align: center\">0/1</td><td style=\"text-align: center\">0/0</td><td style=\"text-align: center\">0/0</td></tr><tr><th style=\"text-align: center; background-color: white; border-right: 1px solid black; \">...</th><td style=\"text-align: center\" colspan=\"12\">...</td></tr><tr><th style=\"text-align: center; background-color: white; border-right: 1px solid black; \">50131</th><td style=\"text-align: center\">./.</td><td style=\"text-align: center\">0/1</td><td style=\"text-align: center\">./.</td><td style=\"text-align: center\">./.</td><td style=\"text-align: center\">./.</td><td style=\"text-align: center\">...</td><td style=\"text-align: center\">0/0</td><td style=\"text-align: center\">./.</td><td style=\"text-align: center\">0/1</td><td style=\"text-align: center\">./.</td><td style=\"text-align: center\">./.</td></tr><tr><th style=\"text-align: center; background-color: white; border-right: 1px solid black; \">50132</th><td style=\"text-align: center\">0/0</td><td style=\"text-align: center\">0/0</td><td style=\"text-align: center\">./.</td><td style=\"text-align: center\">0/0</td><td style=\"text-align: center\">0/0</td><td style=\"text-align: center\">...</td><td style=\"text-align: center\">0/0</td><td style=\"text-align: center\">0/0</td><td style=\"text-align: center\">0/0</td><td style=\"text-align: center\">0/1</td><td style=\"text-align: center\">0/0</td></tr><tr><th style=\"text-align: center; background-color: white; border-right: 1px solid black; \">50133</th><td style=\"text-align: center\">0/0</td><td style=\"text-align: center\">./.</td><td style=\"text-align: center\">0/0</td><td style=\"text-align: center\">0/0</td><td style=\"text-align: center\">0/0</td><td style=\"text-align: center\">...</td><td style=\"text-align: center\">./.</td><td style=\"text-align: center\">./.</td><td style=\"text-align: center\">0/0</td><td style=\"text-align: center\">0/1</td><td style=\"text-align: center\">./.</td></tr></tbody></table></div>"
      ],
      "text/plain": [
       "<GenotypeArray shape=(50134, 169, 2) dtype=int8>\n",
       "0/1 ./. 0/0 ./. 0/0 ... 0/0 0/0 ./. 0/0 ./.\n",
       "0/1 ./. 0/0 0/0 0/0 ... 0/0 0/0 0/0 ./. ./.\n",
       "0/1 0/1 0/0 0/1 ./. ... 0/0 0/1 0/1 0/0 0/0\n",
       "...\n",
       "./. 0/1 ./. ./. ./. ... 0/0 ./. 0/1 ./. ./.\n",
       "0/0 0/0 ./. 0/0 0/0 ... 0/0 0/0 0/0 0/1 0/0\n",
       "0/0 ./. 0/0 0/0 0/0 ... ./. ./. 0/0 0/1 ./."
      ]
     },
     "execution_count": 34,
     "metadata": {},
     "output_type": "execute_result"
    }
   ],
   "source": [
    "gt = s['calldata/GT']\n",
    "gt = allel.GenotypeArray(gt)\n",
    "gt"
   ]
  },
  {
   "cell_type": "markdown",
   "metadata": {},
   "source": [
    "**QUESTION 4:** How many samples are in your dataset?"
   ]
  },
  {
   "cell_type": "markdown",
   "metadata": {},
   "source": [
    "## Metrics of Genetic Giversity"
   ]
  },
  {
   "cell_type": "markdown",
   "metadata": {},
   "source": [
    "Let's calculate the frequencies of different alleles (SNPs) using the `count_alleles().to_frequencies()` function introduced above, saving them to a new object. "
   ]
  },
  {
   "cell_type": "code",
   "execution_count": 35,
   "metadata": {
    "scrolled": true
   },
   "outputs": [
    {
     "data": {
      "text/plain": [
       "array([[0.93981481, 0.06018519],\n",
       "       [0.95132743, 0.04867257],\n",
       "       [0.80952381, 0.19047619],\n",
       "       ...,\n",
       "       [0.67032967, 0.32967033],\n",
       "       [0.97674419, 0.02325581],\n",
       "       [0.97619048, 0.02380952]])"
      ]
     },
     "execution_count": 35,
     "metadata": {},
     "output_type": "execute_result"
    }
   ],
   "source": [
    "af_gt = gt.count_alleles().to_frequencies()\n",
    "af_gt"
   ]
  },
  {
   "cell_type": "markdown",
   "metadata": {},
   "source": [
    "We can select a single site using brackets—for example, the following line of code gives us the frequencies of the two alleles at the first site in the genome:"
   ]
  },
  {
   "cell_type": "code",
   "execution_count": 36,
   "metadata": {},
   "outputs": [
    {
     "data": {
      "text/plain": [
       "array([0.95132743, 0.04867257])"
      ]
     },
     "execution_count": 36,
     "metadata": {},
     "output_type": "execute_result"
    }
   ],
   "source": [
    "af_gt[1]"
   ]
  },
  {
   "cell_type": "markdown",
   "metadata": {},
   "source": [
    "We can use the following function to calculate *observed* heterozygosity at one or more SNPs, again using brackets to select a particular location in the genome:"
   ]
  },
  {
   "cell_type": "code",
   "execution_count": 37,
   "metadata": {},
   "outputs": [
    {
     "data": {
      "text/plain": [
       "0.38"
      ]
     },
     "execution_count": 37,
     "metadata": {},
     "output_type": "execute_result"
    }
   ],
   "source": [
    "h_o = allel.heterozygosity_observed(gt)[32] #this selects the SNP at site 32\n",
    "h_o"
   ]
  },
  {
   "cell_type": "markdown",
   "metadata": {},
   "source": [
    "The function `allel.heterozygosity_expected` works similarly: "
   ]
  },
  {
   "cell_type": "code",
   "execution_count": 38,
   "metadata": {},
   "outputs": [
    {
     "data": {
      "text/plain": [
       "0.30779999999999985"
      ]
     },
     "execution_count": 38,
     "metadata": {},
     "output_type": "execute_result"
    }
   ],
   "source": [
    "h_e = allel.heterozygosity_expected(af_gt, ploidy=2)[32] #this selects the SNP at site 32\n",
    "h_e"
   ]
  },
  {
   "cell_type": "markdown",
   "metadata": {},
   "source": [
    "Recall that $F_{IS}=1-\\frac{H_O}{H_E}$. We therefore have enough to calculate the value of the inbreeding coefficient for any locus:"
   ]
  },
  {
   "cell_type": "code",
   "execution_count": 39,
   "metadata": {},
   "outputs": [
    {
     "data": {
      "text/plain": [
       "-0.2345679012345685"
      ]
     },
     "execution_count": 39,
     "metadata": {},
     "output_type": "execute_result"
    }
   ],
   "source": [
    " allel.inbreeding_coefficient(gt)[32]"
   ]
  },
  {
   "cell_type": "markdown",
   "metadata": {},
   "source": [
    "**QUESTION 5:** In a new code chunk, calculate $H_0$, $H_E$, and $F_{IS}$ for SNPs at positions 6, 19, and 72, recording your results."
   ]
  },
  {
   "cell_type": "markdown",
   "metadata": {},
   "source": [
    "Another basic descriptive task in conservation and population genetics is assessing the diversity across loci in a set of samples. Our empiricial data have already been filtered down to variant sites, so we'll work with the simple genotype array we designated `g` above to get a hang of how a few functions work. Let's start by calculating $\\pi$, or the average number of pairwise differences between all possible pairs of sampled haploid genomes. First, we need to convert our genotype array into counts of each allele at each position. (Note that the maximum value will be 2N=4.)"
   ]
  },
  {
   "cell_type": "code",
   "execution_count": 40,
   "metadata": {},
   "outputs": [
    {
     "data": {
      "text/html": [
       "<div class=\"allel allel-DisplayAs2D\"><span>&lt;AlleleCountsArray shape=(9, 3) dtype=int32&gt;</span><table><thead><tr><th></th><th style=\"text-align: center\">0</th><th style=\"text-align: center\">1</th><th style=\"text-align: center\">2</th></tr></thead><tbody><tr><th style=\"text-align: center; background-color: white; border-right: 1px solid black; \">0</th><td style=\"text-align: center\">4</td><td style=\"text-align: center\">0</td><td style=\"text-align: center\">0</td></tr><tr><th style=\"text-align: center; background-color: white; border-right: 1px solid black; \">1</th><td style=\"text-align: center\">3</td><td style=\"text-align: center\">1</td><td style=\"text-align: center\">0</td></tr><tr><th style=\"text-align: center; background-color: white; border-right: 1px solid black; \">2</th><td style=\"text-align: center\">2</td><td style=\"text-align: center\">2</td><td style=\"text-align: center\">0</td></tr><tr><th style=\"text-align: center; background-color: white; border-right: 1px solid black; \">...</th><td style=\"text-align: center\" colspan=\"4\">...</td></tr><tr><th style=\"text-align: center; background-color: white; border-right: 1px solid black; \">6</th><td style=\"text-align: center\">1</td><td style=\"text-align: center\">2</td><td style=\"text-align: center\">1</td></tr><tr><th style=\"text-align: center; background-color: white; border-right: 1px solid black; \">7</th><td style=\"text-align: center\">1</td><td style=\"text-align: center\">1</td><td style=\"text-align: center\">0</td></tr><tr><th style=\"text-align: center; background-color: white; border-right: 1px solid black; \">8</th><td style=\"text-align: center\">0</td><td style=\"text-align: center\">0</td><td style=\"text-align: center\">0</td></tr></tbody></table></div>"
      ],
      "text/plain": [
       "<AlleleCountsArray shape=(9, 3) dtype=int32>\n",
       "4 0 0\n",
       "3 1 0\n",
       "2 2 0\n",
       "...\n",
       "1 2 1\n",
       "1 1 0\n",
       "0 0 0"
      ]
     },
     "execution_count": 40,
     "metadata": {},
     "output_type": "execute_result"
    }
   ],
   "source": [
    "g_ac = g.count_alleles()\n",
    "g_ac"
   ]
  },
  {
   "cell_type": "markdown",
   "metadata": {},
   "source": [
    "There are 9 sites in this allele count array. Let's imagine they correspond to positions 2,4,7,14,15,18,19, and 27 in a reference genome that is 32 nucleotides long. We can indicate this with an array assigned to `pos`, and then calculate $\\pi$ using the function `allel.sequence_diversity()`. (Note that positions 1 through 31 indicate the stretch of the genome these SNPs are taken from, including invariant sites.)"
   ]
  },
  {
   "cell_type": "code",
   "execution_count": 41,
   "metadata": {},
   "outputs": [
    {
     "data": {
      "text/plain": [
       "0.13978494623655915"
      ]
     },
     "execution_count": 41,
     "metadata": {},
     "output_type": "execute_result"
    }
   ],
   "source": [
    "pos = [2, 4, 7, 14, 15, 18, 19, 25, 27]\n",
    "pi = allel.sequence_diversity(pos, g_ac, start=1, stop=31)\n",
    "pi"
   ]
  },
  {
   "cell_type": "markdown",
   "metadata": {},
   "source": [
    "Another useful metric of diversity is the mean number of pairwise differences for a particular locus. For SNP data, this is equivalent to comparing each allele in each individual and scoring them as 0 (no difference) or 1 (different alleles). We can calculate this for all SNPs in our empirical data"
   ]
  },
  {
   "cell_type": "code",
   "execution_count": 42,
   "metadata": {},
   "outputs": [
    {
     "data": {
      "text/plain": [
       "array([0.11365202, 0.09301868, 0.30986557, ..., 0.44441746, 0.04560673,\n",
       "       0.04667046])"
      ]
     },
     "execution_count": 42,
     "metadata": {},
     "output_type": "execute_result"
    }
   ],
   "source": [
    "gt_ac = gt.count_alleles()\n",
    "dif = allel.mean_pairwise_difference(gt_ac)\n",
    "dif"
   ]
  },
  {
   "cell_type": "markdown",
   "metadata": {},
   "source": [
    "**QUESTION 6:** The basic Python 3 function `max()` calculates the maximum value of a given array. What is the largest mean pairwise difference value in your dataset?"
   ]
  },
  {
   "cell_type": "markdown",
   "metadata": {},
   "source": [
    "## Linkage Disequilibrium "
   ]
  },
  {
   "cell_type": "markdown",
   "metadata": {},
   "source": [
    "Recall that linkage disequilibrium—the association of alleles at different loci at great—is typically measured by the metric $D$. A related metric, $r$, [can be interpreted as the correlation between two diploid genotypes](https://doi.org/10.1534/genetics.108.093153). We can calculate this for our empirical data after first manipulating our genotype array to instead display the number of non-reference alleles (i.e., we are coding diploid genotypes for each individual at each SNP by the number of alleles they have that are different than the reference genome):"
   ]
  },
  {
   "cell_type": "code",
   "execution_count": 43,
   "metadata": {},
   "outputs": [
    {
     "data": {
      "text/plain": [
       "array([ 0,  0,  0,  0,  1, -1,  0, -1,  0, -1,  0, -1, -1,  0,  1, -1,  1,\n",
       "       -1,  1, -1,  1,  1,  1,  1,  1,  1,  1, -1, -1,  1,  1,  1,  0,  0,\n",
       "        0,  0,  0,  0,  0,  0,  0,  0,  0, -1,  0,  0,  0,  0,  0, -1,  1,\n",
       "        1, -1,  1,  1,  1,  1,  1,  0, -1,  1,  0,  0,  0,  0,  0,  0,  0,\n",
       "        0,  1,  1, -1, -1,  1,  1,  0,  0,  0, -1,  0, -1,  0,  0,  0,  0,\n",
       "        0,  0, -1,  0,  0,  0, -1, -1,  0,  0,  0,  0,  0, -1,  1,  0,  1,\n",
       "        0, -1, -1,  1,  0, -1, -1,  0,  0, -1,  0, -1, -1,  0,  0, -1, -1,\n",
       "        0, -1,  1,  0,  0, -1,  0,  0, -1, -1,  1,  0,  0,  0,  0,  0,  0,\n",
       "        0,  0,  0,  0,  0,  1, -1,  0,  0, -1,  0,  0,  0,  1, -1,  0,  1,\n",
       "        0,  0, -1, -1,  1,  1,  0, -1,  1, -1, -1, -1,  0, -1, -1, -1],\n",
       "      dtype=int8)"
      ]
     },
     "execution_count": 43,
     "metadata": {},
     "output_type": "execute_result"
    }
   ],
   "source": [
    "gt_subset = gt[1:50]\n",
    "gt_an = gt_subset.to_n_alt(fill=-1)\n",
    "gt_an[41]"
   ]
  },
  {
   "cell_type": "markdown",
   "metadata": {},
   "source": [
    "A seperate function returns a matrix of pairwise (sample to sample) LD values: "
   ]
  },
  {
   "cell_type": "code",
   "execution_count": 44,
   "metadata": {},
   "outputs": [
    {
     "data": {
      "text/plain": [
       "array([ 0.12069864, -0.11289419,  0.08070002, ..., -0.0659105 ,\n",
       "       -0.02459017, -0.03693944], dtype=float32)"
      ]
     },
     "execution_count": 44,
     "metadata": {},
     "output_type": "execute_result"
    }
   ],
   "source": [
    "ld = allel.rogers_huff_r(gt_an)\n",
    "ld"
   ]
  },
  {
   "cell_type": "markdown",
   "metadata": {},
   "source": [
    "We can plot these using a built in function: "
   ]
  },
  {
   "cell_type": "code",
   "execution_count": 45,
   "metadata": {},
   "outputs": [
    {
     "data": {
      "text/plain": [
       "<Axes: >"
      ]
     },
     "execution_count": 45,
     "metadata": {},
     "output_type": "execute_result"
    },
    {
     "data": {
      "image/png": "[encoded data removed]",
      "text/plain": [
       "<Figure size 640x640 with 2 Axes>"
      ]
     },
     "metadata": {},
     "output_type": "display_data"
    }
   ],
   "source": [
    "allel.plot_pairwise_ld(ld, colorbar=True, ax=None, imshow_kwargs=None)"
   ]
  },
  {
   "cell_type": "markdown",
   "metadata": {},
   "source": [
    "**QUESTION 7:** What is the largest value of $r$ in your dataset? Is it low or high?"
   ]
  },
  {
   "cell_type": "markdown",
   "metadata": {},
   "source": [
    "Let's plot a histogram of these same data. What do you notice?"
   ]
  },
  {
   "cell_type": "code",
   "execution_count": 46,
   "metadata": {},
   "outputs": [
    {
     "data": {
      "image/png": "[encoded data removed]",
      "text/plain": [
       "<Figure size 640x480 with 1 Axes>"
      ]
     },
     "metadata": {},
     "output_type": "display_data"
    }
   ],
   "source": [
    "plt.hist(ld, bins='auto') # arguments are passed to np.histogram\n",
    "plt.title(\"Histogram of pairwise $r$ values\")\n",
    "plt.show()"
   ]
  },
  {
   "cell_type": "markdown",
   "metadata": {},
   "source": [
    "## Population Subdivision"
   ]
  },
  {
   "cell_type": "markdown",
   "metadata": {},
   "source": [
    "Most (all?) of your datasets include samples from multiple, geographically isolated populations. Properly analyzing these data would require linking sample IDs to specific populations, which should be possible, but is difficult to standardize across datasets for our purposes. Therefore, you can decide to choose one of two options to estimate $F_{ST}$ for your dataset: 1) an arbitrary assignment of samples to \"subpopulations\"; or 2) accurately assigning individuals to subpopulations on the basis of the source paper and / or other files in the [Dryad repository linked on GitHub](https://github.com/elinck/conservation_genetics). \n",
    "\n",
    "For the first option, we will arbitrarily divide our samples and associated alelle count arrays into two groups: "
   ]
  },
  {
   "cell_type": "code",
   "execution_count": 47,
   "metadata": {},
   "outputs": [
    {
     "data": {
      "text/plain": [
       "0.003581353534171127"
      ]
     },
     "execution_count": 47,
     "metadata": {},
     "output_type": "execute_result"
    }
   ],
   "source": [
    "first_half = int(gt.n_samples/2) # select a sample number half-way through the total number of samples\n",
    "second_half = int(gt.n_samples) # select the final sample\n",
    "subpops = list(range(first_half)), list(range(first_half+1,second_half)) # assign subpopulations as a list of sample numbers\n",
    "gt_ac1 = gt.count_alleles(subpop=subpops[0]) # calculate allele counts for the first \"subpopulation\"\n",
    "gt_ac2 = gt.count_alleles(subpop=subpops[1]) # calculate allele counts for the second \"subpopulation\"\n",
    "num, den = allel.hudson_fst(gt_ac1, gt_ac2) # calculate the numerator and denominator for FST for each SNP\n",
    "fst = np.sum(num) / np.sum(den) # calculate average FST by summing over all SNPs\n",
    "fst"
   ]
  },
  {
   "cell_type": "markdown",
   "metadata": {},
   "source": [
    "**QUESTION 8:** What is the genome-wide average $F_{ST}$ value for your data? Why is it so low? "
   ]
  },
  {
   "cell_type": "markdown",
   "metadata": {},
   "source": [
    "Recall that we loaded our `vcf` files as an object called `s`. Among its attributes is a list of samples—let's display the first 5 sample names as an array:"
   ]
  },
  {
   "cell_type": "code",
   "execution_count": 48,
   "metadata": {},
   "outputs": [
    {
     "data": {
      "text/plain": [
       "array(['MI1_Quad_1', 'MI1_Quad_10', 'MI1_Quad_2', 'MI1_Quad_3',\n",
       "       'MI1_Quad_4'], dtype=object)"
      ]
     },
     "execution_count": 48,
     "metadata": {},
     "output_type": "execute_result"
    }
   ],
   "source": [
    "s['samples'][0:5]"
   ]
  },
  {
   "cell_type": "markdown",
   "metadata": {},
   "source": [
    "By inspecting this file and comparing it to background information, we can theoretically assign individuals to actual subpopulations by their index. If possible, modify the following code to do so, calculating $F_{ST}$ between two of separate populations in your study. (If there are no lists of sample IDs / localities available, you may select another random subset.)"
   ]
  },
  {
   "cell_type": "code",
   "execution_count": 61,
   "metadata": {},
   "outputs": [
    {
     "data": {
      "text/plain": [
       "-0.031731620948341754"
      ]
     },
     "execution_count": 61,
     "metadata": {},
     "output_type": "execute_result"
    }
   ],
   "source": [
    "subpops2 = [[0,1,2,3,4],[90,91,92,93,94]] # this would assign individuals 0-4 and 90-94 to two different subpopulations; edit as needed\n",
    "subpops2\n",
    "gt_ac1_v2 = gt.count_alleles(subpop=subpops2[0]) \n",
    "gt_ac2_v2 = gt.count_alleles(subpop=subpops2[1]) \n",
    "num, den = allel.hudson_fst(gt_ac1_v2, gt_ac2_v2) \n",
    "fst = np.nansum(num) / np.nansum(den) \n",
    "fst"
   ]
  },
  {
   "cell_type": "markdown",
   "metadata": {},
   "source": [
    "**QUESTION 9:** Is this $F_{ST}$ value higher or lower than your answer to **QUESTION 8**?"
   ]
  },
  {
   "cell_type": "markdown",
   "metadata": {},
   "source": [
    "Let's also calculate *per variant* $F_{ST}$—this way, we can see whether certain SNPs / loci are outliers (and thus potentially under selection). T"
   ]
  },
  {
   "cell_type": "code",
   "execution_count": 62,
   "metadata": {},
   "outputs": [],
   "source": [
    "np.seterr(divide='ignore', invalid='ignore') # allow division by zero\n",
    "fst = num / den \n",
    "fst = fst[~np.isnan(fst)] # drop nan values"
   ]
  },
  {
   "cell_type": "markdown",
   "metadata": {},
   "source": [
    "As with our LD values, we can plot a histogram of per-SNP $F_{ST}$: "
   ]
  },
  {
   "cell_type": "code",
   "execution_count": 63,
   "metadata": {},
   "outputs": [
    {
     "data": {
      "image/png": "[encoded data removed]",
      "text/plain": [
       "<Figure size 640x480 with 1 Axes>"
      ]
     },
     "metadata": {},
     "output_type": "display_data"
    }
   ],
   "source": [
    "plt.hist(fst, bins='auto')\n",
    "plt.title(\"Histogram of per-SNP $F_{ST}$ values\")\n",
    "plt.show()"
   ]
  },
  {
   "cell_type": "markdown",
   "metadata": {},
   "source": [
    "**QUESTION 10:** What is the maximum $F_{ST}$ value in your dataset? Be precise (i.e., use a function and don't just eyeball the plot). For an extra challenge, determine its position in your dataset."
   ]
  },
  {
   "cell_type": "markdown",
   "metadata": {},
   "source": [
    "## Principal Component Analysis"
   ]
  },
  {
   "cell_type": "markdown",
   "metadata": {},
   "source": [
    "To conclude, we'll perform Principal Component Analysis (PCA) on our data. Though we did not explicitly cover PCA in class, it is a ubiquitous approach to extracting patterns from highly multivariate datsets (like genotypes from thousands of SNPs and hundreds of samples) that involves placing samples on new, \"synthetic\" axes that explain the majority of variation in the data. A brief introduction to [PCA is here](https://en.wikipedia.org/wiki/Principal_component_analysis); arguably its most famous use in population genetics is [this 2008 paper](https://www.nature.com/articles/nature07331) in *Nature* by John Novembre and colleagues. PCA is most useful when we know the identity of each plotted sample, but even without going through the necessary steps to do so with our own data, the patterns it reveals can be informative. \n",
    "\n",
    "`scikit-allel` has a built-in PCA function, which is straightforward to implement once we are sure our data are complete (i.e., have no missing values). To do so, we'll start by counting alleles as before:"
   ]
  },
  {
   "cell_type": "code",
   "execution_count": 64,
   "metadata": {},
   "outputs": [
    {
     "data": {
      "text/html": [
       "<div class=\"allel allel-DisplayAs2D\"><span>&lt;AlleleCountsArray shape=(50134, 2) dtype=int32&gt;</span><table><thead><tr><th></th><th style=\"text-align: center\">0</th><th style=\"text-align: center\">1</th></tr></thead><tbody><tr><th style=\"text-align: center; background-color: white; border-right: 1px solid black; \">0</th><td style=\"text-align: center\">203</td><td style=\"text-align: center\"> 13</td></tr><tr><th style=\"text-align: center; background-color: white; border-right: 1px solid black; \">1</th><td style=\"text-align: center\">215</td><td style=\"text-align: center\"> 11</td></tr><tr><th style=\"text-align: center; background-color: white; border-right: 1px solid black; \">2</th><td style=\"text-align: center\">170</td><td style=\"text-align: center\"> 40</td></tr><tr><th style=\"text-align: center; background-color: white; border-right: 1px solid black; \">...</th><td style=\"text-align: center\" colspan=\"3\">...</td></tr><tr><th style=\"text-align: center; background-color: white; border-right: 1px solid black; \">50131</th><td style=\"text-align: center\">122</td><td style=\"text-align: center\"> 60</td></tr><tr><th style=\"text-align: center; background-color: white; border-right: 1px solid black; \">50132</th><td style=\"text-align: center\">252</td><td style=\"text-align: center\">  6</td></tr><tr><th style=\"text-align: center; background-color: white; border-right: 1px solid black; \">50133</th><td style=\"text-align: center\">246</td><td style=\"text-align: center\">  6</td></tr></tbody></table></div>"
      ],
      "text/plain": [
       "<AlleleCountsArray shape=(50134, 2) dtype=int32>\n",
       "203  13\n",
       "215  11\n",
       "170  40\n",
       "...\n",
       "122  60\n",
       "252   6\n",
       "246   6"
      ]
     },
     "execution_count": 64,
     "metadata": {},
     "output_type": "execute_result"
    }
   ],
   "source": [
    "ac_sub = gt.count_alleles() # count alleles\n",
    "ac_sub"
   ]
  },
  {
   "cell_type": "markdown",
   "metadata": {},
   "source": [
    "Because some of the datasets include invariant sites, which will cause problems with PCA, we need to drop them from the object. To do so, we will combine `Numpy's` `np.nonzero` function with the `is_variant` method of `allel`'s genotype datastructures. (The \"0\" below makes sure we end up with a single array; don't worry about it.)"
   ]
  },
  {
   "cell_type": "code",
   "execution_count": 65,
   "metadata": {},
   "outputs": [],
   "source": [
    "indices = np.nonzero(ac_sub.is_variant())[0]"
   ]
  },
  {
   "cell_type": "markdown",
   "metadata": {},
   "source": [
    "Once we have these values, we can use the `take` method of genotype datastructures to subset them:"
   ]
  },
  {
   "cell_type": "code",
   "execution_count": 66,
   "metadata": {},
   "outputs": [],
   "source": [
    "indices = np.nonzero(ac_sub.is_variant())[0] # identify only variant sites\n",
    "genotypes_pca = gt.take(indices, axis=0) # subset genotypes to variants"
   ]
  },
  {
   "cell_type": "markdown",
   "metadata": {},
   "source": [
    "We can then check to see whether any sites were dropped by comparing the dimensions of data before and after filtering:"
   ]
  },
  {
   "cell_type": "code",
   "execution_count": 67,
   "metadata": {},
   "outputs": [
    {
     "data": {
      "text/plain": [
       "0"
      ]
     },
     "execution_count": 67,
     "metadata": {},
     "output_type": "execute_result"
    }
   ],
   "source": [
    "before = len(gt)\n",
    "after = len(genotypes_pca)\n",
    "SNPs_dropped = before - after\n",
    "SNPs_dropped"
   ]
  },
  {
   "cell_type": "markdown",
   "metadata": {},
   "source": [
    "(Depending on your dataset, this value may be zero.)"
   ]
  },
  {
   "cell_type": "markdown",
   "metadata": {},
   "source": [
    "Our last data preparation step is to transform our data to an array counts of *alternate* alleles—i.e., alleles that are different than the reference sequence reads were aligned to during sequence assembly:"
   ]
  },
  {
   "cell_type": "code",
   "execution_count": 68,
   "metadata": {},
   "outputs": [
    {
     "data": {
      "text/plain": [
       "array([[1, 0, 0, ..., 0, 0, 0],\n",
       "       [1, 0, 0, ..., 0, 0, 0],\n",
       "       [1, 1, 0, ..., 1, 0, 0],\n",
       "       ...,\n",
       "       [0, 1, 0, ..., 1, 0, 0],\n",
       "       [0, 0, 0, ..., 0, 1, 0],\n",
       "       [0, 0, 0, ..., 0, 1, 0]], dtype=int8)"
      ]
     },
     "execution_count": 68,
     "metadata": {},
     "output_type": "execute_result"
    }
   ],
   "source": [
    "gn = genotypes_pca.to_n_alt()\n",
    "gn"
   ]
  },
  {
   "cell_type": "markdown",
   "metadata": {},
   "source": [
    "Now it's time to run PCA itself. Note that we are saving informaiton on the model used to run it in the second variable."
   ]
  },
  {
   "cell_type": "code",
   "execution_count": 69,
   "metadata": {},
   "outputs": [],
   "source": [
    "coords, model = allel.pca(gn) # run pca"
   ]
  },
  {
   "cell_type": "code",
   "execution_count": 70,
   "metadata": {},
   "outputs": [
    {
     "data": {
      "image/png": "[encoded data removed]",
      "text/plain": [
       "<Figure size 640x480 with 1 Axes>"
      ]
     },
     "metadata": {},
     "output_type": "display_data"
    }
   ],
   "source": [
    "plt.scatter(coords[:, 0], # position on the first principal component of the observations\n",
    "            coords[:, 1], alpha=0.7);"
   ]
  },
  {
   "cell_type": "markdown",
   "metadata": {},
   "source": [
    "**QUESTION 11:** Interpret this PCA. Do you see distinct clusters, suggesting groups of samples that are closely related to each other, or do you see largely continuous variation? What biological processes relevant to your study taxon might help explain these patterns? Do your results match conclusions in the paper? "
   ]
  },
  {
   "cell_type": "markdown",
   "metadata": {},
   "source": [
    "That's the end of your brief tour of `scikit-allel`! We have, of course, only scratched the surface of what you can do with sequence data in Python. If you are motivated, feel free to add new code chunks below and perform an addititional analysis or data visualization on your dataset using any resource you wish for help. If your work is successful and you document it with a screenshot or by copy / pasting code and output, I'll give you extra credit (**QUESTION 12**)!"
   ]
  }
 ],
 "metadata": {
  "kernelspec": {
   "display_name": "Python 3 (ipykernel)",
   "language": "python",
   "name": "python3"
  },
  "language_info": {
   "codemirror_mode": {
    "name": "ipython",
    "version": 3
   },
   "file_extension": ".py",
   "mimetype": "text/x-python",
   "name": "python",
   "nbconvert_exporter": "python",
   "pygments_lexer": "ipython3",
   "version": "3.12.7"
  }
 },
 "nbformat": 4,
 "nbformat_minor": 4
}
